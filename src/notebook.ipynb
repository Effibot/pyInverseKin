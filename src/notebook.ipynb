{
 "cells": [
  {
   "cell_type": "code",
   "execution_count": 1,
   "metadata": {},
   "outputs": [],
   "source": [
    "import sympy as sp\n",
    "from sympy import cos as c, sin as s, pi, Function as f, Matrix as M\n",
    "import numpy as np\n",
    "from scipy.integrate import odeint\n",
    "\n",
    "# Define the independent variable\n",
    "x, y, t, l1, l2, m1, m2 = sp.symbols(\"x y t l1 l2 m1 m2\")\n",
    "L1, L2, g = sp.symbols(\"L1 L2 g\")\n",
    "q1, q2 = f(\"q1\")(t), f(\"q2\")(t)\n",
    "c1, s1, c2, s2, c12, s12 = c(q1), s(q1), c(q2), s(q2), c(q1 + q2), s(q1 + q2)\n",
    "t_diff = lambda expr: sp.diff(expr, t) if t in expr.free_symbols else expr\n",
    "\n",
    "# Define the forward kinematics\n",
    "R1 = M([[c1, -s1, 0], [s1, c1, 0], [0, 0, 1]])\n",
    "T1 = M([[1, 0, l1], [0, 1, 0], [0, 0, 1]])\n",
    "R2 = M([[c2, -s2, 0], [s2, c2, 0], [0, 0, 1]])\n",
    "T2 = M([[1, 0, l2], [0, 1, 0], [0, 0, 1]])\n",
    "Q01 = R1 * T1\n",
    "Q12 = R2 * T2\n",
    "Q02 = Q01 * Q12\n",
    "Q02 = Q02.applyfunc(sp.simplify)\n",
    "Ph = M([[x], [0], [1]])\n",
    "\n",
    "dq1 = q1.diff(t)\n",
    "dq2 = q2.diff(t)\n",
    "ddq1 = dq1.diff(t)\n",
    "ddq2 = dq2.diff(t)\n",
    "tau1, tau2 = sp.symbols(\"tau1 tau2\")"
   ]
  },
  {
   "attachments": {},
   "cell_type": "markdown",
   "metadata": {},
   "source": [
    "$$\\frac{d}{dt}\\frac{\\partial L}{\\partial \\dot{q}_i} - \\frac{\\partial L}{\\partial q_i} = \\tau_i$$\n",
    "$$M(q)\\ddot{q} + C(q,\\dot{q})\\dot{q} + G(q) = \\tau$$\n"
   ]
  },
  {
   "cell_type": "code",
   "execution_count": 2,
   "metadata": {},
   "outputs": [],
   "source": [
    "m_t = M(\n",
    "    [\n",
    "        [\n",
    "            m1 * L1**2 + m2 * (L1**2 + 2 * L1 * L2 * c2 + L2**2),\n",
    "            m2 * (L1 * L2 * c2 + L2**2),\n",
    "        ],\n",
    "        [m2 * (L1 * L2 * c2 + L2**2), m2 * L2**2],\n",
    "    ]\n",
    ")\n",
    "c_t_td = M(\n",
    "    [[-m2 * L1 * L2 * s2 * (2 * dq1 * dq2 * dq2**2)], [m2 * L1 * L2 * s2 * dq1**2]]\n",
    ")\n",
    "g_t = M(\n",
    "    [\n",
    "        [(m1 + m2) * g * L1 * c(q1) + m2 * g * L2 * c(q1 + q2)],\n",
    "        [m2 * g * L2 * c(q1 + q2)],\n",
    "    ]\n",
    ")"
   ]
  },
  {
   "cell_type": "code",
   "execution_count": 3,
   "metadata": {},
   "outputs": [
    {
     "data": {
      "text/latex": [
       "$\\displaystyle \\left[\\begin{matrix}- 2 L_{1} L_{2} m_{2} \\sin{\\left(q_{2}{\\left(t \\right)} \\right)} \\frac{d}{d t} q_{1}{\\left(t \\right)} \\left(\\frac{d}{d t} q_{2}{\\left(t \\right)}\\right)^{3} + L_{1} g \\left(m_{1} + m_{2}\\right) \\cos{\\left(q_{1}{\\left(t \\right)} \\right)} + L_{2} g m_{2} \\cos{\\left(q_{1}{\\left(t \\right)} + q_{2}{\\left(t \\right)} \\right)} + m_{2} \\left(L_{1} L_{2} \\cos{\\left(q_{2}{\\left(t \\right)} \\right)} + L_{2}^{2}\\right) \\frac{d^{2}}{d t^{2}} q_{2}{\\left(t \\right)} - \\tau_{1} + \\left(L_{1}^{2} m_{1} + m_{2} \\left(L_{1}^{2} + 2 L_{1} L_{2} \\cos{\\left(q_{2}{\\left(t \\right)} \\right)} + L_{2}^{2}\\right)\\right) \\frac{d^{2}}{d t^{2}} q_{1}{\\left(t \\right)}\\\\L_{1} L_{2} m_{2} \\sin{\\left(q_{2}{\\left(t \\right)} \\right)} \\left(\\frac{d}{d t} q_{1}{\\left(t \\right)}\\right)^{2} + L_{2}^{2} m_{2} \\frac{d^{2}}{d t^{2}} q_{2}{\\left(t \\right)} + L_{2} g m_{2} \\cos{\\left(q_{1}{\\left(t \\right)} + q_{2}{\\left(t \\right)} \\right)} + m_{2} \\left(L_{1} L_{2} \\cos{\\left(q_{2}{\\left(t \\right)} \\right)} + L_{2}^{2}\\right) \\frac{d^{2}}{d t^{2}} q_{1}{\\left(t \\right)} - \\tau_{2}\\end{matrix}\\right]$"
      ],
      "text/plain": [
       "Matrix([\n",
       "[-2*L1*L2*m2*sin(q2(t))*Derivative(q1(t), t)*Derivative(q2(t), t)**3 + L1*g*(m1 + m2)*cos(q1(t)) + L2*g*m2*cos(q1(t) + q2(t)) + m2*(L1*L2*cos(q2(t)) + L2**2)*Derivative(q2(t), (t, 2)) - tau1 + (L1**2*m1 + m2*(L1**2 + 2*L1*L2*cos(q2(t)) + L2**2))*Derivative(q1(t), (t, 2))],\n",
       "[                                                                                                L1*L2*m2*sin(q2(t))*Derivative(q1(t), t)**2 + L2**2*m2*Derivative(q2(t), (t, 2)) + L2*g*m2*cos(q1(t) + q2(t)) + m2*(L1*L2*cos(q2(t)) + L2**2)*Derivative(q1(t), (t, 2)) - tau2]])"
      ]
     },
     "execution_count": 3,
     "metadata": {},
     "output_type": "execute_result"
    }
   ],
   "source": [
    "eq = m_t * M([[ddq1], [ddq2]]) + c_t_td + g_t - M([[tau1], [tau2]])\n",
    "eq\n"
   ]
  },
  {
   "cell_type": "code",
   "execution_count": 4,
   "metadata": {},
   "outputs": [],
   "source": [
    "sols = sp.solve(eq, [ddq1, ddq2], rational=False, simplify=True)\n",
    "ddq1_sol = sols[ddq1]\n",
    "ddq2_sol = sols[ddq2]\n"
   ]
  },
  {
   "attachments": {},
   "cell_type": "markdown",
   "metadata": {},
   "source": [
    "> convert to state space form:\n",
    "\n",
    "Assume $x=\\begin{bmatrix} q & \\dot{q} \\end{bmatrix}^T$, then we have:\n",
    "\n",
    "$$\n",
    "\\begin{bmatrix}x_1 \\\\ x_2 \\\\ x_3 \\\\ x_4\\end{bmatrix} = \\begin{bmatrix} q_1 \\\\ q_2 \\\\ \\dot{q}_1 \\\\ \\dot{q}_2 \\end{bmatrix}\n",
    "\\Longrightarrow\n",
    "\\begin{bmatrix} \\dot{x}_1 \\\\ \\dot{x}_2 \\\\ \\dot{x}_3 \\\\ \\dot{x}_4\\end{bmatrix} = \\begin{bmatrix} x_3 \\\\ x_4 \\\\ \\ddot{q}_1 \\\\ \\ddot{q}_2 \\end{bmatrix} = \\begin{bmatrix} x_3 \\\\ x_4 \\\\ M(q)^{-1}(\\tau - C(q,\\dot{q})\\dot{q} - G(q)) \\end{bmatrix}\n",
    "$$\n",
    "\n",
    "In other words, we have:\n",
    "$$\\dot{x} = \\begin{bmatrix} \\dot{q} \\\\ M(q)^{-1}(\\tau - C(q,\\dot{q})\\dot{q} - G(q)) \\end{bmatrix}$$\n"
   ]
  },
  {
   "cell_type": "code",
   "execution_count": 5,
   "metadata": {},
   "outputs": [],
   "source": [
    "x1, x2, x3, x4 = sp.symbols(\"x1 x2 x3 x4\", cls=sp.Function)\n",
    "x1, x2, x3, x4 = x1(t), x2(t), x3(t), x4(t)\n",
    "# x1_d, x2_d, x3_d, x4_d = sp.symbols(r'\\dot{x}_1 \\dot{x}_2 \\dot{x}_3 \\dot{x}_4')\n",
    "# x = M([x1, x2, x3, x4])\n",
    "# x_d = M([x1_d, x2_d, x3_d, x4_d])\n",
    "# substitute the symbols with the states\n",
    "x1_d = x3\n",
    "x2_d = x4\n",
    "x3_d = ddq1_sol.subs({q1: x1, q2: x2, dq1: x3, dq2: x4})\n",
    "x4_d = ddq2_sol.subs({q1: x1, q2: x2, dq1: x3, dq2: x4})\n",
    "# define functions for the dynamics\n",
    "x1_d_f = sp.lambdify(x1.diff(t), x1.diff(t))\n",
    "x2_d_f = sp.lambdify(x2.diff(t), x2.diff(t))\n",
    "x3_d_f = sp.lambdify([t, x1, x2, x3, x4, tau1, tau2, m1, m2, g, L1, L2], x3_d)\n",
    "x4_d_f = sp.lambdify([t, x1, x2, x3, x4, tau1, tau2, m1, m2, g, L1, L2], x4_d)"
   ]
  },
  {
   "cell_type": "code",
   "execution_count": 40,
   "metadata": {},
   "outputs": [
    {
     "data": {
      "text/plain": [
       "float"
      ]
     },
     "execution_count": 40,
     "metadata": {},
     "output_type": "execute_result"
    }
   ],
   "source": [
    "type(x1_d_f(0.0))"
   ]
  },
  {
   "cell_type": "code",
   "execution_count": 43,
   "metadata": {},
   "outputs": [],
   "source": [
    "# define interface to evaluate the dynamics\n",
    "def dxdt(x, t, tau1, tau2, m1, m2, g, L1, L2):\n",
    "    x1, x2, x3, x4 = x\n",
    "    return [\n",
    "        x1_d_f(x3), # x1_d = q1_d\n",
    "        x3_d_f(t, x1, x2, x3, x4, tau1, tau2, m1, m2, g, L1, L2), # x3_d = q1_dd\n",
    "        x2_d_f(x4), # x2_d = q2_d\n",
    "        x4_d_f(t, x1, x2, x3, x4, tau1, tau2, m1, m2, g, L1, L2), # x4_d = q2_dd\n",
    "    ]"
   ]
  },
  {
   "cell_type": "code",
   "execution_count": 45,
   "metadata": {},
   "outputs": [],
   "source": [
    "time = np.linspace(0, 40, 1001)\n",
    "g = 9.81\n",
    "m1 = 2\n",
    "m2 = 1\n",
    "L1_ = 2\n",
    "L2_ = 1\n",
    "ans = odeint(dxdt, y0=[0.0, 0.0, np.pi/2, 0.0], t=time, args=(1, 0, m1, m2, g, L1_, L2_))"
   ]
  },
  {
   "cell_type": "code",
   "execution_count": 46,
   "metadata": {},
   "outputs": [],
   "source": [
    "x1_sym = ans.T[0]\n",
    "x2_sym = ans.T[2]\n",
    "x3_sym = ans.T[1]\n",
    "x4_sym = ans.T[3]\n"
   ]
  },
  {
   "cell_type": "code",
   "execution_count": 47,
   "metadata": {},
   "outputs": [],
   "source": [
    "# Replace the symbols with the states\n",
    "Q02 = Q02.subs({l1: L1, l2: L2, q1: x1, q2: x2})\n",
    "P = (Q02*M([[0], [0], [1]]))[0:2, 0]\n",
    "# Define the forward kinematics as a function of the states\n",
    "fk = sp.lambdify([x1, x2, L1, L2], P)"
   ]
  },
  {
   "cell_type": "code",
   "execution_count": 48,
   "metadata": {},
   "outputs": [
    {
     "data": {
      "text/plain": [
       "array([0.])"
      ]
     },
     "execution_count": 48,
     "metadata": {},
     "output_type": "execute_result"
    }
   ],
   "source": [
    "x1_sym"
   ]
  },
  {
   "cell_type": "code",
   "execution_count": 49,
   "metadata": {},
   "outputs": [
    {
     "data": {
      "text/plain": [
       "<matplotlib.collections.PathCollection at 0x7f44194b4700>"
      ]
     },
     "execution_count": 49,
     "metadata": {},
     "output_type": "execute_result"
    },
    {
     "data": {
      "image/png": "[encoded data removed]",
      "text/plain": [
       "<Figure size 640x480 with 1 Axes>"
      ]
     },
     "metadata": {},
     "output_type": "display_data"
    }
   ],
   "source": [
    "import matplotlib.pyplot as plt\n",
    "p = fk(x1_sym, x2_sym, L1_, L2_)\n",
    "p = p[:, 0]\n",
    "plt.scatter(p[0], p[1])"
   ]
  },
  {
   "cell_type": "code",
   "execution_count": 8,
   "metadata": {},
   "outputs": [],
   "source": [
    "# m_t_inv = m_t.inv()\n",
    "# eq = (m_t_inv*(M([[tau1],[tau2]])-c_t_td-g_t)).applyfunc(sp.simplify)\n",
    "# eq"
   ]
  },
  {
   "attachments": {},
   "cell_type": "markdown",
   "metadata": {},
   "source": [
    "(L2*(2*L1*L2*m2*x3*x4**3*sin(x2) - L1*g*(m1 + m2)*cos(x1) - L2*g*m2*cos(x1 + x2) + tau1) + (L1*cos(x2) + L2)*(L1*L2*m2*x3**2*sin(x2) + L2*g*m2*cos(x1 + x2) - tau2))/(L1**2*L2*(m1 + m2\\*sin(x2)**2))\n",
    "\n",
    "(-L2*m2*(L1*cos(x2) + L2)*(2*L1*L2*m2*x3*x4\\*\\*3*sin(x2) - L1*g*(m1 + m2)*cos(x1) - L2*g*m2*cos(x1 + x2) + tau1) - (L1*L2*m2*x3\\*\\*2*sin(x2) + L2*g*m2*cos(x1 + x2) - tau2)*(L1**2\\*m1 + L1**2*m2 + 2*L1*L2*m2*cos(x2) + L2\\*\\*2*m2))/(L1**2\\*L2**2*m2*(m1 + m2\\*sin(x2)\\*\\*2))\n"
   ]
  },
  {
   "cell_type": "code",
   "execution_count": 9,
   "metadata": {},
   "outputs": [],
   "source": [
    "x3_dot = (\n",
    "    L2\n",
    "    * (\n",
    "        2 * L1 * L2 * m2 * x3 * x4**3 * s(x2)\n",
    "        - L1 * g * (m1 + m2) * c(x1)\n",
    "        - L2 * g * m2 * c(x1 + x2)\n",
    "        + tau1\n",
    "    )\n",
    "    + (L1 * c(x2) + L2)\n",
    "    * (L1 * L2 * m2 * x3**2 * s(x2) + L2 * g * m2 * c(x1 + x2) - tau2)\n",
    ") / (L1**2 * L2 * (m1 + m2 * s(x2) ** 2))\n",
    "x4_dot = (\n",
    "    -L2\n",
    "    * m2\n",
    "    * (L1 * c(x2) + L2)\n",
    "    * (\n",
    "        2 * L1 * L2 * m2 * x3 * x4**3 * s(x2)\n",
    "        - L1 * g * (m1 + m2) * c(x1)\n",
    "        - L2 * g * m2 * c(x1 + x2)\n",
    "        + tau1\n",
    "    )\n",
    "    - (L1 * L2 * m2 * x3**2 * s(x2) + L2 * g * m2 * c(x1 + x2) - tau2)\n",
    "    * (L1**2 * m1 + L1**2 * m2 + 2 * L1 * L2 * m2 * c(x2) + L2**2 * m2)\n",
    ") / (L1**2 * L2**2 * m2 * (m1 + m2 * s(x2) ** 2))"
   ]
  },
  {
   "cell_type": "code",
   "execution_count": 10,
   "metadata": {},
   "outputs": [
    {
     "data": {
      "text/latex": [
       "$\\displaystyle \\frac{\\tau_{1} + \\left(2 \\cos{\\left(x_{2}{\\left(t \\right)} \\right)} + 1\\right) \\left(- \\tau_{2} + 2 x_{3}^{2}{\\left(t \\right)} \\sin{\\left(x_{2}{\\left(t \\right)} \\right)} + 9.81 \\cos{\\left(x_{1}{\\left(t \\right)} + x_{2}{\\left(t \\right)} \\right)}\\right) + 4 x_{3}{\\left(t \\right)} x_{4}^{3}{\\left(t \\right)} \\sin{\\left(x_{2}{\\left(t \\right)} \\right)} - 9.81 \\cos{\\left(x_{1}{\\left(t \\right)} + x_{2}{\\left(t \\right)} \\right)} - 58.86 \\cos{\\left(x_{1}{\\left(t \\right)} \\right)}}{4 \\sin^{2}{\\left(x_{2}{\\left(t \\right)} \\right)} + 8}$"
      ],
      "text/plain": [
       "(tau1 + (2*cos(x2(t)) + 1)*(-tau2 + 2*x3(t)**2*sin(x2(t)) + 9.81*cos(x1(t) + x2(t))) + 4*x3(t)*x4(t)**3*sin(x2(t)) - 9.81*cos(x1(t) + x2(t)) - 58.86*cos(x1(t)))/(4*sin(x2(t))**2 + 8)"
      ]
     },
     "execution_count": 10,
     "metadata": {},
     "output_type": "execute_result"
    }
   ],
   "source": [
    "x3_dot\n"
   ]
  },
  {
   "cell_type": "code",
   "execution_count": null,
   "metadata": {},
   "outputs": [],
   "source": []
  },
  {
   "cell_type": "code",
   "execution_count": 11,
   "metadata": {},
   "outputs": [],
   "source": [
    "# define interface for the forward kinematics\n",
    "def forward_kinematics(q1t, q2t, L1, L2):\n",
    "    \"\"\"\n",
    "    Returns the position of the end effector given the angles of the two links.\n",
    "    \"\"\"\n",
    "    fwd_subs = {l1: L1, l2: L2, q1: q1t, q2: q2t}\n",
    "    p = Q02 * M([[0], [0], [1]])\n",
    "    p[0] = p[0].subs(fwd_subs)\n",
    "    p[1] = p[1].subs(fwd_subs)\n",
    "    return np.array(p[:2]).astype(np.float64).flatten()"
   ]
  },
  {
   "cell_type": "code",
   "execution_count": 12,
   "metadata": {},
   "outputs": [
    {
     "data": {
      "text/plain": [
       "(2,)"
      ]
     },
     "execution_count": 12,
     "metadata": {},
     "output_type": "execute_result"
    }
   ],
   "source": [
    "p = forward_kinematics(0, 0, 1, 1)\n",
    "p.shape\n"
   ]
  },
  {
   "cell_type": "code",
   "execution_count": 13,
   "metadata": {},
   "outputs": [],
   "source": [
    "# simulate the system\n",
    "import numpy as np\n",
    "\n",
    "\n",
    "def simulate(x0, tau1_t, tau2_t, dt=0.01, t_end=10, L1_=1, L2_=1, M1=1, M2=1, G=9.81):\n",
    "    \"\"\"\n",
    "    Simulate the double pendulum system for a given time.\n",
    "    Args:\n",
    "        x0: initial state vector\n",
    "        tau1_t: torque applied to the first link\n",
    "        tau2: torque applied to the second link\n",
    "        dt: time step\n",
    "        t_end: end time\n",
    "    \"\"\"\n",
    "    # initialize the state vector\n",
    "    x = x0\n",
    "    # initialize the time vector\n",
    "    t = np.arange(0, t_end, dt)\n",
    "    # initialize the state vector history\n",
    "    x_hist = np.zeros((len(t), len(x0)))\n",
    "    # initialize the torque vector history\n",
    "    tau_hist = np.zeros((len(t), 2))\n",
    "    # initialize the position vector history\n",
    "    p_hist = np.zeros((len(t), 2))\n",
    "    # initialize the velocity vector history\n",
    "    v_hist = np.zeros((len(t), 2))\n",
    "    # initialize the acceleration vector history\n",
    "    a_hist = np.zeros((len(t), 2))\n",
    "    # initialize the control vector history\n",
    "    u_hist = np.zeros((len(t), 2))\n",
    "    # initialize the time step\n",
    "    i = 0\n",
    "    # simulate the system\n",
    "    for i in range(len(t)):\n",
    "        # save the current state\n",
    "        x_hist[i] = x.T\n",
    "        # save the current torque\n",
    "        tau_hist[i] = np.array([tau1_t, tau2_t])\n",
    "        # save the current position\n",
    "        p_hist[i] = forward_kinematics(x[0, 0], x[1, 0], L1_, L2_)[0:2]\n",
    "        # save the current velocity\n",
    "        v_hist[i] = np.array([x[2, 0], x[3, 0]])\n",
    "        # save the current acceleration\n",
    "        x3_d\n",
    "        a_hist[i] = np.array(\n",
    "            [\n",
    "                x3_dot.subs(\n",
    "                    {\n",
    "                        x1: x[0, 0],\n",
    "                        x2: x[1, 0],\n",
    "                        x3: x[2, 0],\n",
    "                        x4: x[3, 0],\n",
    "                        L1: L1_,\n",
    "                        L2: L2_,\n",
    "                        m1: M1,\n",
    "                        m2: M2,\n",
    "                        g: G,\n",
    "                        tau1: tau1_t,\n",
    "                        tau2: tau2_t,\n",
    "                    }\n",
    "                ),\n",
    "                x4_dot.subs(\n",
    "                    {\n",
    "                        x1: x[0, 0],\n",
    "                        x2: x[1, 0],\n",
    "                        x3: x[2, 0],\n",
    "                        x4: x[3, 0],\n",
    "                        L1: L1_,\n",
    "                        L2: L2_,\n",
    "                        m1: M1,\n",
    "                        m2: M2,\n",
    "                        g: G,\n",
    "                        tau1: tau1_t,\n",
    "                        tau2: tau2_t,\n",
    "                    }\n",
    "                ),\n",
    "            ]\n",
    "        )\n",
    "        # save the current control\n",
    "        u_hist[i] = np.array([tau1_t, tau2_t])\n",
    "        # update the state\n",
    "        x = (\n",
    "            x\n",
    "            + x_dot.subs(\n",
    "                {\n",
    "                    x1: x[0, 0],\n",
    "                    x2: x[1, 0],\n",
    "                    x3: x[2, 0],\n",
    "                    x4: x[3, 0],\n",
    "                    L1: L1_,\n",
    "                    L2: L2_,\n",
    "                    m1: M1,\n",
    "                    m2: M2,\n",
    "                    g: G,\n",
    "                    tau1: tau1_t,\n",
    "                    tau2: tau2_t,\n",
    "                }\n",
    "            )\n",
    "            * dt\n",
    "        )\n",
    "    return t, x_hist, tau_hist, p_hist, v_hist, a_hist, u_hist"
   ]
  },
  {
   "cell_type": "code",
   "execution_count": 14,
   "metadata": {},
   "outputs": [
    {
     "ename": "NameError",
     "evalue": "name 'x_dot' is not defined",
     "output_type": "error",
     "traceback": [
      "\u001b[0;31m---------------------------------------------------------------------------\u001b[0m",
      "\u001b[0;31mNameError\u001b[0m                                 Traceback (most recent call last)",
      "Cell \u001b[0;32mIn[14], line 4\u001b[0m\n\u001b[1;32m      2\u001b[0m tau1_t \u001b[39m=\u001b[39m \u001b[39m1\u001b[39m\n\u001b[1;32m      3\u001b[0m tau2_t \u001b[39m=\u001b[39m \u001b[39m0\u001b[39m\n\u001b[0;32m----> 4\u001b[0m t, x_hist, tau_hist, p_hist, v_hist, a_hist, u_hist \u001b[39m=\u001b[39m simulate(\n\u001b[1;32m      5\u001b[0m     x0, tau1_t, tau2_t, dt\u001b[39m=\u001b[39;49m\u001b[39m0.01\u001b[39;49m, t_end\u001b[39m=\u001b[39;49m\u001b[39m1\u001b[39;49m, G\u001b[39m=\u001b[39;49m\u001b[39m0\u001b[39;49m\n\u001b[1;32m      6\u001b[0m )\n",
      "Cell \u001b[0;32mIn[13], line 84\u001b[0m, in \u001b[0;36msimulate\u001b[0;34m(x0, tau1_t, tau2_t, dt, t_end, L1_, L2_, M1, M2, G)\u001b[0m\n\u001b[1;32m     80\u001b[0m     u_hist[i] \u001b[39m=\u001b[39m np\u001b[39m.\u001b[39marray([tau1_t, tau2_t])\n\u001b[1;32m     81\u001b[0m     \u001b[39m# update the state\u001b[39;00m\n\u001b[1;32m     82\u001b[0m     x \u001b[39m=\u001b[39m (\n\u001b[1;32m     83\u001b[0m         x\n\u001b[0;32m---> 84\u001b[0m         \u001b[39m+\u001b[39m x_dot\u001b[39m.\u001b[39msubs(\n\u001b[1;32m     85\u001b[0m             {\n\u001b[1;32m     86\u001b[0m                 x1: x[\u001b[39m0\u001b[39m, \u001b[39m0\u001b[39m],\n\u001b[1;32m     87\u001b[0m                 x2: x[\u001b[39m1\u001b[39m, \u001b[39m0\u001b[39m],\n\u001b[1;32m     88\u001b[0m                 x3: x[\u001b[39m2\u001b[39m, \u001b[39m0\u001b[39m],\n\u001b[1;32m     89\u001b[0m                 x4: x[\u001b[39m3\u001b[39m, \u001b[39m0\u001b[39m],\n\u001b[1;32m     90\u001b[0m                 L1: L1_,\n\u001b[1;32m     91\u001b[0m                 L2: L2_,\n\u001b[1;32m     92\u001b[0m                 m1: M1,\n\u001b[1;32m     93\u001b[0m                 m2: M2,\n\u001b[1;32m     94\u001b[0m                 g: G,\n\u001b[1;32m     95\u001b[0m                 tau1: tau1_t,\n\u001b[1;32m     96\u001b[0m                 tau2: tau2_t,\n\u001b[1;32m     97\u001b[0m             }\n\u001b[1;32m     98\u001b[0m         )\n\u001b[1;32m     99\u001b[0m         \u001b[39m*\u001b[39m dt\n\u001b[1;32m    100\u001b[0m     )\n\u001b[1;32m    101\u001b[0m \u001b[39mreturn\u001b[39;00m t, x_hist, tau_hist, p_hist, v_hist, a_hist, u_hist\n",
      "\u001b[0;31mNameError\u001b[0m: name 'x_dot' is not defined"
     ]
    }
   ],
   "source": [
    "x0 = np.array([[0], [0], [0], [0]])\n",
    "tau1_t = 1\n",
    "tau2_t = 0\n",
    "t, x_hist, tau_hist, p_hist, v_hist, a_hist, u_hist = simulate(\n",
    "    x0, tau1_t, tau2_t, dt=0.01, t_end=1, G=0\n",
    ")"
   ]
  },
  {
   "cell_type": "code",
   "execution_count": null,
   "metadata": {},
   "outputs": [
    {
     "data": {
      "image/png": "[encoded data removed]",
      "text/plain": [
       "<Figure size 640x480 with 1 Axes>"
      ]
     },
     "metadata": {},
     "output_type": "display_data"
    }
   ],
   "source": [
    "import matplotlib.pyplot as plt\n",
    "\n",
    "plt.plot(t, x_hist[:, 0], label=\"q1\")\n",
    "plt.plot(t, x_hist[:, 1], label=\"q2\")\n",
    "plt.plot(t, x_hist[:, 2], label=\"dq1\")\n",
    "plt.plot(t, x_hist[:, 3], label=\"dq2\")\n",
    "plt.legend()\n",
    "plt.show()"
   ]
  },
  {
   "cell_type": "code",
   "execution_count": null,
   "metadata": {},
   "outputs": [
    {
     "data": {
      "image/png": "[encoded data removed]",
      "text/plain": [
       "<Figure size 640x480 with 1 Axes>"
      ]
     },
     "metadata": {},
     "output_type": "display_data"
    }
   ],
   "source": [
    "# plot the position of the end effector\n",
    "plt.plot(p_hist[:, 0], p_hist[:, 1])\n",
    "plt.show()"
   ]
  },
  {
   "cell_type": "code",
   "execution_count": null,
   "metadata": {},
   "outputs": [],
   "source": []
  }
 ],
 "metadata": {
  "kernelspec": {
   "display_name": "base",
   "language": "python",
   "name": "python3"
  },
  "language_info": {
   "codemirror_mode": {
    "name": "ipython",
    "version": 3
   },
   "file_extension": ".py",
   "mimetype": "text/x-python",
   "name": "python",
   "nbconvert_exporter": "python",
   "pygments_lexer": "ipython3",
   "version": "3.10.11"
  },
  "orig_nbformat": 4
 },
 "nbformat": 4,
 "nbformat_minor": 2
}
