{
 "cells": [
  {
   "cell_type": "code",
   "execution_count": 1,
   "metadata": {},
   "outputs": [],
   "source": [
    "import sympy as sp\n",
    "from sympy import cos as c, sin as s, pi, Function as f, Matrix as M\n",
    "\n",
    "\n",
    "# Define the independent variable\n",
    "x, y, t, l1, l2, m1, m2 = sp.symbols('x y t l1 l2 m1 m2')\n",
    "q1, q2 = f('q1')(t), f('q2')(t)\n",
    "c1, s1, c2, s2, c12, s12 = c(q1), s(q1), c(q2), s(q2), c(q1 + q2), s(q1 + q2)\n",
    "t_diff = lambda expr: sp.diff(expr, t) if t in expr.free_symbols else expr\n",
    "\n",
    "# Define the forward kinematics\n",
    "R1 = M([[c1, -s1, 0], [s1, c1, 0], [0, 0, 1]])\n",
    "T1 = M([[1, 0, l1], [0, 1, 0], [0, 0, 1]])\n",
    "R2 = M([[c2, -s2, 0], [s2, c2, 0], [0, 0, 1]])\n",
    "T2 = M([[1, 0, l2], [0, 1, 0], [0, 0, 1]])\n",
    "Q01 = R1 * T1\n",
    "Q12 = R2 * T2\n",
    "Q02 = Q01 * Q12\n",
    "Q02 = Q02.applyfunc(sp.simplify)\n",
    "Ph = M([[x], [0], [1]])\n"
   ]
  },
  {
   "attachments": {},
   "cell_type": "markdown",
   "metadata": {},
   "source": [
    "Energia Cinetica Link 1"
   ]
  },
  {
   "cell_type": "code",
   "execution_count": 2,
   "metadata": {},
   "outputs": [
    {
     "data": {
      "text/latex": [
       "$\\displaystyle \\left[\\begin{matrix}\\left(l_{1} + x\\right)^{2} \\left(\\frac{d}{d t} q_{1}{\\left(t \\right)}\\right)^{2}\\end{matrix}\\right]$"
      ],
      "text/plain": [
       "Matrix([[(l1 + x)**2*Derivative(q1(t), t)**2]])"
      ]
     },
     "execution_count": 2,
     "metadata": {},
     "output_type": "execute_result"
    }
   ],
   "source": [
    "P = Q01*Ph\n",
    "P = M([[P[0, 0]], [P[1, 0]]])\n",
    "Pd = P.applyfunc(t_diff)\n",
    "Pd2 = Pd.T * Pd\n",
    "Pd2 = Pd2.applyfunc(sp.simplify)\n",
    "Pd2"
   ]
  },
  {
   "cell_type": "code",
   "execution_count": 3,
   "metadata": {},
   "outputs": [
    {
     "data": {
      "text/latex": [
       "$\\displaystyle \\left[\\begin{matrix}\\frac{l_{1}^{2} m_{1} \\left(\\frac{d}{d t} q_{1}{\\left(t \\right)}\\right)^{2}}{6}\\end{matrix}\\right]$"
      ],
      "text/plain": [
       "Matrix([[l1**2*m1*Derivative(q1(t), t)**2/6]])"
      ]
     },
     "execution_count": 3,
     "metadata": {},
     "output_type": "execute_result"
    }
   ],
   "source": [
    "rho1 = m1 / l1\n",
    "tau1 = rho1*Pd2\n",
    "T_L1 = sp.integrate(tau1, (x, -l1, 0))*1/2\n",
    "T_L1"
   ]
  },
  {
   "cell_type": "code",
   "execution_count": 4,
   "metadata": {},
   "outputs": [
    {
     "data": {
      "text/latex": [
       "$\\displaystyle \\left[\\begin{matrix}\\frac{l_{1}^{2} m_{1} \\left(\\frac{d}{d t} q_{1}{\\left(t \\right)}\\right)^{2}}{2}\\end{matrix}\\right]$"
      ],
      "text/plain": [
       "Matrix([[l1**2*m1*Derivative(q1(t), t)**2/2]])"
      ]
     },
     "execution_count": 4,
     "metadata": {},
     "output_type": "execute_result"
    }
   ],
   "source": [
    "T_M1 = m1*Pd2.subs(x, 0)*1/2\n",
    "T_M1"
   ]
  },
  {
   "cell_type": "code",
   "execution_count": 5,
   "metadata": {},
   "outputs": [
    {
     "data": {
      "text/latex": [
       "$\\displaystyle \\left[\\begin{matrix}\\frac{2 l_{1}^{2} m_{1} \\left(\\frac{d}{d t} q_{1}{\\left(t \\right)}\\right)^{2}}{3}\\end{matrix}\\right]$"
      ],
      "text/plain": [
       "Matrix([[2*l1**2*m1*Derivative(q1(t), t)**2/3]])"
      ]
     },
     "execution_count": 5,
     "metadata": {},
     "output_type": "execute_result"
    }
   ],
   "source": [
    "T1 = T_L1 + T_M1\n",
    "T1"
   ]
  },
  {
   "attachments": {},
   "cell_type": "markdown",
   "metadata": {},
   "source": [
    "Energia Cinetica Link2"
   ]
  },
  {
   "cell_type": "code",
   "execution_count": 6,
   "metadata": {},
   "outputs": [
    {
     "data": {
      "text/latex": [
       "$\\displaystyle \\left[\\begin{matrix}\\left(l_{1} \\sin{\\left(q_{1}{\\left(t \\right)} \\right)} \\frac{d}{d t} q_{1}{\\left(t \\right)} + l_{2} \\left(\\frac{d}{d t} q_{1}{\\left(t \\right)} + \\frac{d}{d t} q_{2}{\\left(t \\right)}\\right) \\sin{\\left(q_{1}{\\left(t \\right)} + q_{2}{\\left(t \\right)} \\right)} + x \\left(\\frac{d}{d t} q_{1}{\\left(t \\right)} + \\frac{d}{d t} q_{2}{\\left(t \\right)}\\right) \\sin{\\left(q_{1}{\\left(t \\right)} + q_{2}{\\left(t \\right)} \\right)}\\right)^{2} + \\left(l_{1} \\cos{\\left(q_{1}{\\left(t \\right)} \\right)} \\frac{d}{d t} q_{1}{\\left(t \\right)} + l_{2} \\left(\\frac{d}{d t} q_{1}{\\left(t \\right)} + \\frac{d}{d t} q_{2}{\\left(t \\right)}\\right) \\cos{\\left(q_{1}{\\left(t \\right)} + q_{2}{\\left(t \\right)} \\right)} + x \\left(\\frac{d}{d t} q_{1}{\\left(t \\right)} + \\frac{d}{d t} q_{2}{\\left(t \\right)}\\right) \\cos{\\left(q_{1}{\\left(t \\right)} + q_{2}{\\left(t \\right)} \\right)}\\right)^{2}\\end{matrix}\\right]$"
      ],
      "text/plain": [
       "Matrix([[(l1*sin(q1(t))*Derivative(q1(t), t) + l2*(Derivative(q1(t), t) + Derivative(q2(t), t))*sin(q1(t) + q2(t)) + x*(Derivative(q1(t), t) + Derivative(q2(t), t))*sin(q1(t) + q2(t)))**2 + (l1*cos(q1(t))*Derivative(q1(t), t) + l2*(Derivative(q1(t), t) + Derivative(q2(t), t))*cos(q1(t) + q2(t)) + x*(Derivative(q1(t), t) + Derivative(q2(t), t))*cos(q1(t) + q2(t)))**2]])"
      ]
     },
     "execution_count": 6,
     "metadata": {},
     "output_type": "execute_result"
    }
   ],
   "source": [
    "P = Q02*Ph\n",
    "P = M([[P[0, 0]], [P[1, 0]]])\n",
    "Pd = P.applyfunc(t_diff)\n",
    "Pd2 = Pd.T * Pd\n",
    "Pd2 = Pd2.applyfunc(sp.simplify)\n",
    "Pd2"
   ]
  },
  {
   "cell_type": "code",
   "execution_count": 7,
   "metadata": {},
   "outputs": [
    {
     "data": {
      "text/latex": [
       "$\\displaystyle \\left[\\begin{matrix}\\frac{m_{2} \\cdot \\left(3 l_{1}^{2} \\left(\\frac{d}{d t} q_{1}{\\left(t \\right)}\\right)^{2} + 3 l_{1} l_{2} \\cos{\\left(q_{2}{\\left(t \\right)} \\right)} \\left(\\frac{d}{d t} q_{1}{\\left(t \\right)}\\right)^{2} + 3 l_{1} l_{2} \\cos{\\left(q_{2}{\\left(t \\right)} \\right)} \\frac{d}{d t} q_{1}{\\left(t \\right)} \\frac{d}{d t} q_{2}{\\left(t \\right)} + l_{2}^{2} \\left(\\frac{d}{d t} q_{1}{\\left(t \\right)}\\right)^{2} + 2 l_{2}^{2} \\frac{d}{d t} q_{1}{\\left(t \\right)} \\frac{d}{d t} q_{2}{\\left(t \\right)} + l_{2}^{2} \\left(\\frac{d}{d t} q_{2}{\\left(t \\right)}\\right)^{2}\\right)}{6}\\end{matrix}\\right]$"
      ],
      "text/plain": [
       "Matrix([[m2*(3*l1**2*Derivative(q1(t), t)**2 + 3*l1*l2*cos(q2(t))*Derivative(q1(t), t)**2 + 3*l1*l2*cos(q2(t))*Derivative(q1(t), t)*Derivative(q2(t), t) + l2**2*Derivative(q1(t), t)**2 + 2*l2**2*Derivative(q1(t), t)*Derivative(q2(t), t) + l2**2*Derivative(q2(t), t)**2)/6]])"
      ]
     },
     "execution_count": 7,
     "metadata": {},
     "output_type": "execute_result"
    }
   ],
   "source": [
    "rho2 = m2 / l2\n",
    "tau2 = rho2*Pd2\n",
    "T_L2 = sp.integrate(tau2, (x, -l2, 0))*1/2\n",
    "T_L2 = T_L2.applyfunc(sp.expand).applyfunc(sp.simplify)\n",
    "T_L2"
   ]
  },
  {
   "cell_type": "code",
   "execution_count": 8,
   "metadata": {},
   "outputs": [
    {
     "data": {
      "text/latex": [
       "$\\displaystyle \\left[\\begin{matrix}\\frac{m_{2} \\left(l_{1}^{2} \\left(\\frac{d}{d t} q_{1}{\\left(t \\right)}\\right)^{2} + 2 l_{1} l_{2} \\cos{\\left(q_{2}{\\left(t \\right)} \\right)} \\left(\\frac{d}{d t} q_{1}{\\left(t \\right)}\\right)^{2} + 2 l_{1} l_{2} \\cos{\\left(q_{2}{\\left(t \\right)} \\right)} \\frac{d}{d t} q_{1}{\\left(t \\right)} \\frac{d}{d t} q_{2}{\\left(t \\right)} + l_{2}^{2} \\left(\\frac{d}{d t} q_{1}{\\left(t \\right)}\\right)^{2} + 2 l_{2}^{2} \\frac{d}{d t} q_{1}{\\left(t \\right)} \\frac{d}{d t} q_{2}{\\left(t \\right)} + l_{2}^{2} \\left(\\frac{d}{d t} q_{2}{\\left(t \\right)}\\right)^{2}\\right)}{2}\\end{matrix}\\right]$"
      ],
      "text/plain": [
       "Matrix([[m2*(l1**2*Derivative(q1(t), t)**2 + 2*l1*l2*cos(q2(t))*Derivative(q1(t), t)**2 + 2*l1*l2*cos(q2(t))*Derivative(q1(t), t)*Derivative(q2(t), t) + l2**2*Derivative(q1(t), t)**2 + 2*l2**2*Derivative(q1(t), t)*Derivative(q2(t), t) + l2**2*Derivative(q2(t), t)**2)/2]])"
      ]
     },
     "execution_count": 8,
     "metadata": {},
     "output_type": "execute_result"
    }
   ],
   "source": [
    "T_M2 = m2*Pd2.subs(x, 0).applyfunc(sp.expand).applyfunc(sp.simplify)*1/2\n",
    "T_M2"
   ]
  },
  {
   "cell_type": "code",
   "execution_count": 9,
   "metadata": {},
   "outputs": [
    {
     "data": {
      "text/latex": [
       "$\\displaystyle \\left[\\begin{matrix}\\frac{m_{2} \\cdot \\left(6 l_{1}^{2} \\left(\\frac{d}{d t} q_{1}{\\left(t \\right)}\\right)^{2} + 9 l_{1} l_{2} \\cos{\\left(q_{2}{\\left(t \\right)} \\right)} \\left(\\frac{d}{d t} q_{1}{\\left(t \\right)}\\right)^{2} + 9 l_{1} l_{2} \\cos{\\left(q_{2}{\\left(t \\right)} \\right)} \\frac{d}{d t} q_{1}{\\left(t \\right)} \\frac{d}{d t} q_{2}{\\left(t \\right)} + 4 l_{2}^{2} \\left(\\frac{d}{d t} q_{1}{\\left(t \\right)}\\right)^{2} + 8 l_{2}^{2} \\frac{d}{d t} q_{1}{\\left(t \\right)} \\frac{d}{d t} q_{2}{\\left(t \\right)} + 4 l_{2}^{2} \\left(\\frac{d}{d t} q_{2}{\\left(t \\right)}\\right)^{2}\\right)}{6}\\end{matrix}\\right]$"
      ],
      "text/plain": [
       "Matrix([[m2*(6*l1**2*Derivative(q1(t), t)**2 + 9*l1*l2*cos(q2(t))*Derivative(q1(t), t)**2 + 9*l1*l2*cos(q2(t))*Derivative(q1(t), t)*Derivative(q2(t), t) + 4*l2**2*Derivative(q1(t), t)**2 + 8*l2**2*Derivative(q1(t), t)*Derivative(q2(t), t) + 4*l2**2*Derivative(q2(t), t)**2)/6]])"
      ]
     },
     "execution_count": 9,
     "metadata": {},
     "output_type": "execute_result"
    }
   ],
   "source": [
    "T2 = (T_L2 + T_M2).applyfunc(sp.expand).applyfunc(sp.simplify)\n",
    "T2"
   ]
  },
  {
   "cell_type": "code",
   "execution_count": 10,
   "metadata": {},
   "outputs": [
    {
     "data": {
      "text/latex": [
       "$\\displaystyle \\left[\\begin{matrix}\\frac{2 l_{1}^{2} m_{1} \\left(\\frac{d}{d t} q_{1}{\\left(t \\right)}\\right)^{2}}{3} + l_{1}^{2} m_{2} \\left(\\frac{d}{d t} q_{1}{\\left(t \\right)}\\right)^{2} + \\frac{3 l_{1} l_{2} m_{2} \\cos{\\left(q_{2}{\\left(t \\right)} \\right)} \\left(\\frac{d}{d t} q_{1}{\\left(t \\right)}\\right)^{2}}{2} + \\frac{3 l_{1} l_{2} m_{2} \\cos{\\left(q_{2}{\\left(t \\right)} \\right)} \\frac{d}{d t} q_{1}{\\left(t \\right)} \\frac{d}{d t} q_{2}{\\left(t \\right)}}{2} + \\frac{2 l_{2}^{2} m_{2} \\left(\\frac{d}{d t} q_{1}{\\left(t \\right)}\\right)^{2}}{3} + \\frac{4 l_{2}^{2} m_{2} \\frac{d}{d t} q_{1}{\\left(t \\right)} \\frac{d}{d t} q_{2}{\\left(t \\right)}}{3} + \\frac{2 l_{2}^{2} m_{2} \\left(\\frac{d}{d t} q_{2}{\\left(t \\right)}\\right)^{2}}{3}\\end{matrix}\\right]$"
      ],
      "text/plain": [
       "Matrix([[2*l1**2*m1*Derivative(q1(t), t)**2/3 + l1**2*m2*Derivative(q1(t), t)**2 + 3*l1*l2*m2*cos(q2(t))*Derivative(q1(t), t)**2/2 + 3*l1*l2*m2*cos(q2(t))*Derivative(q1(t), t)*Derivative(q2(t), t)/2 + 2*l2**2*m2*Derivative(q1(t), t)**2/3 + 4*l2**2*m2*Derivative(q1(t), t)*Derivative(q2(t), t)/3 + 2*l2**2*m2*Derivative(q2(t), t)**2/3]])"
      ]
     },
     "execution_count": 10,
     "metadata": {},
     "output_type": "execute_result"
    }
   ],
   "source": [
    "T = (T1 + T2).applyfunc(sp.expand).applyfunc(sp.simplify)\n",
    "T"
   ]
  },
  {
   "cell_type": "code",
   "execution_count": 11,
   "metadata": {},
   "outputs": [],
   "source": [
    "def collect_with_respect_to_vars(eq, vars):\n",
    "    assert isinstance(vars, list)\n",
    "    eq = eq.expand()\n",
    "    if len(vars) == 0:\n",
    "        return {1: eq}\n",
    "\n",
    "    var_map = eq.collect(vars[0], evaluate=False)\n",
    "    final_var_map = {}\n",
    "    for var_power in var_map:\n",
    "        sub_expression = var_map[var_power]\n",
    "        sub_var_map = collect_with_respect_to_vars(sub_expression, vars[1:])\n",
    "        for sub_var_power in sub_var_map:\n",
    "            final_var_map[var_power*sub_var_power] = sub_var_map[sub_var_power]\n",
    "    return final_var_map"
   ]
  },
  {
   "attachments": {},
   "cell_type": "markdown",
   "metadata": {},
   "source": [
    "Now derivate the EL equations"
   ]
  },
  {
   "cell_type": "code",
   "execution_count": 12,
   "metadata": {},
   "outputs": [],
   "source": [
    "# Auxiliary definitions for the derivatives\n",
    "dq1 = q1.diff(t)\n",
    "dq2 = q2.diff(t)\n",
    "tau1, tau2 = sp.symbols('tau1 tau2')\n",
    "# Define the Lagrangian\n",
    "L = T   # assuming no potential energy and no external forces\n",
    "dLddq1 = L.diff(dq1)\n",
    "dLdq1 = L.diff(q1)\n",
    "dLddq2 = L.diff(dq2)\n",
    "dLdq2 = L.diff(q2)\n",
    "# Define the Euler-Lagrange equations\n",
    "eq1 = (dLddq1.diff(t) - dLdq1)[0]\n",
    "eq2 = (dLddq2.diff(t) - dLdq2)[0]\n",
    "# Solve the Euler-Lagrange equations\n",
    "eq1 = eq1.expand().simplify()\n",
    "eq2 = eq2.expand().simplify()\n",
    "Ax = M([eq1, eq2])\n",
    "Y = M([tau1, tau2])"
   ]
  },
  {
   "cell_type": "code",
   "execution_count": 50,
   "metadata": {},
   "outputs": [
    {
     "data": {
      "text/plain": [
       "{Derivative(q1(t), (t, 2)): 81*l1**2*l2*m2*sin(q2(t))*cos(q2(t))*Derivative(q1(t), t)**2/(64*l1**2*l2*m1 - 81*l1**2*l2*m2*cos(q2(t))**2 + 96*l1**2*l2*m2) + 72*l1*l2**2*m2*sin(q2(t))*Derivative(q1(t), t)**2/(64*l1**2*l2*m1 - 81*l1**2*l2*m2*cos(q2(t))**2 + 96*l1**2*l2*m2) + 144*l1*l2**2*m2*sin(q2(t))*Derivative(q1(t), t)*Derivative(q2(t), t)/(64*l1**2*l2*m1 - 81*l1**2*l2*m2*cos(q2(t))**2 + 96*l1**2*l2*m2) + 72*l1*l2**2*m2*sin(q2(t))*Derivative(q2(t), t)**2/(64*l1**2*l2*m1 - 81*l1**2*l2*m2*cos(q2(t))**2 + 96*l1**2*l2*m2) - 54*l1*tau2*cos(q2(t))/(64*l1**2*l2*m1 - 81*l1**2*l2*m2*cos(q2(t))**2 + 96*l1**2*l2*m2) + 48*l2*tau1/(64*l1**2*l2*m1 - 81*l1**2*l2*m2*cos(q2(t))**2 + 96*l1**2*l2*m2) - 48*l2*tau2/(64*l1**2*l2*m1 - 81*l1**2*l2*m2*cos(q2(t))**2 + 96*l1**2*l2*m2),\n",
       " Derivative(q2(t), (t, 2)): -72*l1**3*l2*m1*m2*sin(q2(t))*Derivative(q1(t), t)**2/(64*l1**2*l2**2*m1*m2 - 81*l1**2*l2**2*m2**2*cos(q2(t))**2 + 96*l1**2*l2**2*m2**2) - 108*l1**3*l2*m2**2*sin(q2(t))*Derivative(q1(t), t)**2/(64*l1**2*l2**2*m1*m2 - 81*l1**2*l2**2*m2**2*cos(q2(t))**2 + 96*l1**2*l2**2*m2**2) - 162*l1**2*l2**2*m2**2*sin(q2(t))*cos(q2(t))*Derivative(q1(t), t)**2/(64*l1**2*l2**2*m1*m2 - 81*l1**2*l2**2*m2**2*cos(q2(t))**2 + 96*l1**2*l2**2*m2**2) - 162*l1**2*l2**2*m2**2*sin(q2(t))*cos(q2(t))*Derivative(q1(t), t)*Derivative(q2(t), t)/(64*l1**2*l2**2*m1*m2 - 81*l1**2*l2**2*m2**2*cos(q2(t))**2 + 96*l1**2*l2**2*m2**2) - 81*l1**2*l2**2*m2**2*sin(q2(t))*cos(q2(t))*Derivative(q2(t), t)**2/(64*l1**2*l2**2*m1*m2 - 81*l1**2*l2**2*m2**2*cos(q2(t))**2 + 96*l1**2*l2**2*m2**2) + 48*l1**2*m1*tau2/(64*l1**2*l2**2*m1*m2 - 81*l1**2*l2**2*m2**2*cos(q2(t))**2 + 96*l1**2*l2**2*m2**2) + 72*l1**2*m2*tau2/(64*l1**2*l2**2*m1*m2 - 81*l1**2*l2**2*m2**2*cos(q2(t))**2 + 96*l1**2*l2**2*m2**2) - 72*l1*l2**3*m2**2*sin(q2(t))*Derivative(q1(t), t)**2/(64*l1**2*l2**2*m1*m2 - 81*l1**2*l2**2*m2**2*cos(q2(t))**2 + 96*l1**2*l2**2*m2**2) - 144*l1*l2**3*m2**2*sin(q2(t))*Derivative(q1(t), t)*Derivative(q2(t), t)/(64*l1**2*l2**2*m1*m2 - 81*l1**2*l2**2*m2**2*cos(q2(t))**2 + 96*l1**2*l2**2*m2**2) - 72*l1*l2**3*m2**2*sin(q2(t))*Derivative(q2(t), t)**2/(64*l1**2*l2**2*m1*m2 - 81*l1**2*l2**2*m2**2*cos(q2(t))**2 + 96*l1**2*l2**2*m2**2) - 54*l1*l2*m2*tau1*cos(q2(t))/(64*l1**2*l2**2*m1*m2 - 81*l1**2*l2**2*m2**2*cos(q2(t))**2 + 96*l1**2*l2**2*m2**2) + 108*l1*l2*m2*tau2*cos(q2(t))/(64*l1**2*l2**2*m1*m2 - 81*l1**2*l2**2*m2**2*cos(q2(t))**2 + 96*l1**2*l2**2*m2**2) - 48*l2**2*m2*tau1/(64*l1**2*l2**2*m1*m2 - 81*l1**2*l2**2*m2**2*cos(q2(t))**2 + 96*l1**2*l2**2*m2**2) + 48*l2**2*m2*tau2/(64*l1**2*l2**2*m1*m2 - 81*l1**2*l2**2*m2**2*cos(q2(t))**2 + 96*l1**2*l2**2*m2**2)}"
      ]
     },
     "execution_count": 50,
     "metadata": {},
     "output_type": "execute_result"
    }
   ],
   "source": [
    "# Solve for the accelerations\n",
    "S = sp.Eq(Ax, Y)\n",
    "sol = sp.solve(S, [q1.diff(t, t), q2.diff(t, t)])"
   ]
  },
  {
   "cell_type": "code",
   "execution_count": 54,
   "metadata": {},
   "outputs": [],
   "source": [
    "p = 81*l1**2*l2*m2*s2*c(q2)*dq1**2/(64*l1**2*l2*m1 - 81*l1**2*l2*m2*c2**2 + 96*l1**2*l2*m2) + 72*l1*l2**2*m2*s2*dq1**2/(64*l1**2*l2*m1 - 81*l1**2*l2*m2*c2**2 + 96*l1**2*l2*m2) + 144*l1*l2**2*m2*s2*dq1*dq2/(64*l1**2*l2*m1 - 81*l1**2*l2*m2*c2**2 + 96*l1**2*l2*m2) + 72*l1*l2**2*m2*s2*dq2**2/(64*l1**2*l2*m1 - 81*l1**2*l2*m2*c2**2 + 96*l1**2*l2*m2) - 54*l1*tau2*c2/(64*l1**2*l2*m1 - 81*l1**2*l2*m2*c2**2 + 96*l1**2*l2*m2) + 48*l2*tau1/(64*l1**2*l2*m1 - 81*l1**2*l2*m2*c2**2 + 96*l1**2*l2*m2) - 48*l2*tau2/(64*l1**2*l2*m1 - 81*l1**2*l2*m2*c2**2 + 96*l1**2*l2*m2)"
   ]
  },
  {
   "cell_type": "code",
   "execution_count": 57,
   "metadata": {},
   "outputs": [
    {
     "data": {
      "text/latex": [
       "$\\displaystyle \\frac{3 \\cdot \\left(27 l_{1}^{2} l_{2} m_{2} \\sin{\\left(2 q_{2}{\\left(t \\right)} \\right)} \\left(\\frac{d}{d t} q_{1}{\\left(t \\right)}\\right)^{2} + 48 l_{1} l_{2}^{2} m_{2} \\sin{\\left(q_{2}{\\left(t \\right)} \\right)} \\left(\\frac{d}{d t} q_{1}{\\left(t \\right)}\\right)^{2} + 96 l_{1} l_{2}^{2} m_{2} \\sin{\\left(q_{2}{\\left(t \\right)} \\right)} \\frac{d}{d t} q_{1}{\\left(t \\right)} \\frac{d}{d t} q_{2}{\\left(t \\right)} + 48 l_{1} l_{2}^{2} m_{2} \\sin{\\left(q_{2}{\\left(t \\right)} \\right)} \\left(\\frac{d}{d t} q_{2}{\\left(t \\right)}\\right)^{2} - 36 l_{1} \\tau_{2} \\cos{\\left(q_{2}{\\left(t \\right)} \\right)} + 32 l_{2} \\tau_{1} - 32 l_{2} \\tau_{2}\\right)}{l_{1}^{2} l_{2} \\cdot \\left(128 m_{1} - 81 m_{2} \\cos{\\left(2 q_{2}{\\left(t \\right)} \\right)} + 111 m_{2}\\right)}$"
      ],
      "text/plain": [
       "3*(27*l1**2*l2*m2*sin(2*q2(t))*Derivative(q1(t), t)**2 + 48*l1*l2**2*m2*sin(q2(t))*Derivative(q1(t), t)**2 + 96*l1*l2**2*m2*sin(q2(t))*Derivative(q1(t), t)*Derivative(q2(t), t) + 48*l1*l2**2*m2*sin(q2(t))*Derivative(q2(t), t)**2 - 36*l1*tau2*cos(q2(t)) + 32*l2*tau1 - 32*l2*tau2)/(l1**2*l2*(128*m1 - 81*m2*cos(2*q2(t)) + 111*m2))"
      ]
     },
     "execution_count": 57,
     "metadata": {},
     "output_type": "execute_result"
    }
   ],
   "source": [
    "p.simplify()"
   ]
  },
  {
   "cell_type": "code",
   "execution_count": 36,
   "metadata": {},
   "outputs": [
    {
     "data": {
      "text/plain": [
       "{Derivative(q1(t), (t, 2)): 4*l1**2*m1/3 + 2*l1**2*m2 + 3*l1*l2*m2*cos(q2(t)) + 4*l2**2*m2/3,\n",
       " 1: -3*l1*l2*m2*sin(q2(t))*Derivative(q1(t), t)*Derivative(q2(t), t) - 3*l1*l2*m2*sin(q2(t))*Derivative(q2(t), t)**2/2 + 3*l1*l2*m2*cos(q2(t))*Derivative(q2(t), (t, 2))/2 + 4*l2**2*m2*Derivative(q2(t), (t, 2))/3 - tau1}"
      ]
     },
     "execution_count": 36,
     "metadata": {},
     "output_type": "execute_result"
    }
   ],
   "source": [
    "eq1.collect([dq1.diff(t)], evaluate=False)"
   ]
  },
  {
   "cell_type": "code",
   "execution_count": 40,
   "metadata": {},
   "outputs": [
    {
     "data": {
      "text/latex": [
       "$\\displaystyle \\frac{4 l_{1}^{2} m_{1}}{3} + 2 l_{1}^{2} m_{2} + 3 l_{1} l_{2} m_{2} \\cos{\\left(q_{2}{\\left(t \\right)} \\right)} + \\frac{4 l_{2}^{2} m_{2}}{3}$"
      ],
      "text/plain": [
       "4*l1**2*m1/3 + 2*l1**2*m2 + 3*l1*l2*m2*cos(q2(t)) + 4*l2**2*m2/3"
      ]
     },
     "execution_count": 40,
     "metadata": {},
     "output_type": "execute_result"
    }
   ],
   "source": [
    "4*l1**2*m1/3 + 2*l1**2*m2 + 3*l1*l2*m2*c(q2) + 4*l2**2*m2/3"
   ]
  },
  {
   "cell_type": "code",
   "execution_count": 41,
   "metadata": {},
   "outputs": [
    {
     "data": {
      "text/latex": [
       "$\\displaystyle - 3 l_{1} l_{2} m_{2} \\sin{\\left(q_{2}{\\left(t \\right)} \\right)} \\frac{d}{d t} q_{1}{\\left(t \\right)} \\frac{d}{d t} q_{2}{\\left(t \\right)} - \\frac{3 l_{1} l_{2} m_{2} \\sin{\\left(q_{2}{\\left(t \\right)} \\right)} \\left(\\frac{d}{d t} q_{2}{\\left(t \\right)}\\right)^{2}}{2} + \\frac{3 l_{1} l_{2} m_{2} \\cos{\\left(q_{2}{\\left(t \\right)} \\right)} \\frac{d^{2}}{d t^{2}} q_{2}{\\left(t \\right)}}{2} + \\frac{4 l_{2}^{2} m_{2} \\frac{d^{2}}{d t^{2}} q_{2}{\\left(t \\right)}}{3} - \\tau_{1}$"
      ],
      "text/plain": [
       "-3*l1*l2*m2*sin(q2(t))*Derivative(q1(t), t)*Derivative(q2(t), t) - 3*l1*l2*m2*sin(q2(t))*Derivative(q2(t), t)**2/2 + 3*l1*l2*m2*cos(q2(t))*Derivative(q2(t), (t, 2))/2 + 4*l2**2*m2*Derivative(q2(t), (t, 2))/3 - tau1"
      ]
     },
     "execution_count": 41,
     "metadata": {},
     "output_type": "execute_result"
    }
   ],
   "source": [
    "-3*l1*l2*m2*s(q2)*dq1*dq2 - 3*l1*l2*m2*s(q2)*dq2**2/2 + 3*l1*l2*m2*c(q2)*dq2.diff(t)/2 + 4*l2**2*m2*dq2.diff(t)/3 - tau1"
   ]
  },
  {
   "cell_type": "code",
   "execution_count": 14,
   "metadata": {},
   "outputs": [],
   "source": [
    "L1, L2, g = sp.symbols('L1 L2 g')"
   ]
  },
  {
   "attachments": {},
   "cell_type": "markdown",
   "metadata": {},
   "source": [
    "$$\\frac{d}{dt}\\frac{\\partial L}{\\partial \\dot{q}_i} - \\frac{\\partial L}{\\partial q_i} = \\tau_i$$\n",
    "$$M(q)\\ddot{q} + C(q,\\dot{q})\\dot{q} + G(q) = \\tau$$"
   ]
  },
  {
   "cell_type": "code",
   "execution_count": 19,
   "metadata": {},
   "outputs": [],
   "source": [
    "m_t = M([[m1*L1**2+m2*(L1**2+2*L1*L2*c2+L2**2), m2*(L1*L2*c2+L2**2)],\n",
    "       [m2*(L1*L2*c2+L2**2), m2*L2**2]])\n",
    "c_t_td = M([[-m2*L1*L2*s2*(2*dq1*dq2*dq2**2)],\n",
    "       [m2*L1*L2*s2*dq1**2]])\n",
    "g_t = M([[(m1+m2)*g*L1*c(q1)+m2*g*L2*c(q1+q2)],\n",
    "       [m2*g*L2*c(q1+q2)]])"
   ]
  },
  {
   "cell_type": "code",
   "execution_count": 22,
   "metadata": {},
   "outputs": [
    {
     "data": {
      "text/latex": [
       "$\\displaystyle \\left[\\begin{matrix}\\frac{1}{L_{1}^{2} m_{1} - L_{1}^{2} m_{2} \\cos^{2}{\\left(q_{2}{\\left(t \\right)} \\right)} + L_{1}^{2} m_{2}} & \\frac{- L_{1} \\cos{\\left(q_{2}{\\left(t \\right)} \\right)} - L_{2}}{L_{1}^{2} L_{2} m_{1} - L_{1}^{2} L_{2} m_{2} \\cos^{2}{\\left(q_{2}{\\left(t \\right)} \\right)} + L_{1}^{2} L_{2} m_{2}}\\\\\\frac{- L_{1} \\cos{\\left(q_{2}{\\left(t \\right)} \\right)} - L_{2}}{L_{1}^{2} L_{2} m_{1} - L_{1}^{2} L_{2} m_{2} \\cos^{2}{\\left(q_{2}{\\left(t \\right)} \\right)} + L_{1}^{2} L_{2} m_{2}} & \\frac{L_{1}^{2} m_{1} + L_{1}^{2} m_{2} + 2 L_{1} L_{2} m_{2} \\cos{\\left(q_{2}{\\left(t \\right)} \\right)} + L_{2}^{2} m_{2}}{L_{1}^{2} L_{2}^{2} m_{1} m_{2} - L_{1}^{2} L_{2}^{2} m_{2}^{2} \\cos^{2}{\\left(q_{2}{\\left(t \\right)} \\right)} + L_{1}^{2} L_{2}^{2} m_{2}^{2}}\\end{matrix}\\right]$"
      ],
      "text/plain": [
       "Matrix([\n",
       "[                             1/(L1**2*m1 - L1**2*m2*cos(q2(t))**2 + L1**2*m2),                                                      (-L1*cos(q2(t)) - L2)/(L1**2*L2*m1 - L1**2*L2*m2*cos(q2(t))**2 + L1**2*L2*m2)],\n",
       "[(-L1*cos(q2(t)) - L2)/(L1**2*L2*m1 - L1**2*L2*m2*cos(q2(t))**2 + L1**2*L2*m2), (L1**2*m1 + L1**2*m2 + 2*L1*L2*m2*cos(q2(t)) + L2**2*m2)/(L1**2*L2**2*m1*m2 - L1**2*L2**2*m2**2*cos(q2(t))**2 + L1**2*L2**2*m2**2)]])"
      ]
     },
     "execution_count": 22,
     "metadata": {},
     "output_type": "execute_result"
    }
   ],
   "source": [
    "m_t_inv = m_t.inv()\n",
    "m_t_inv"
   ]
  },
  {
   "attachments": {},
   "cell_type": "markdown",
   "metadata": {},
   "source": [
    "$$\\ddot{q} = M^{-1}(q)(\\tau - C(q,\\dot{q})\\dot{q} - G(q))$$"
   ]
  },
  {
   "cell_type": "code",
   "execution_count": 26,
   "metadata": {},
   "outputs": [
    {
     "data": {
      "text/latex": [
       "$\\displaystyle \\left[\\begin{matrix}\\frac{L_{2} \\cdot \\left(2 L_{1} L_{2} m_{2} \\sin{\\left(q_{2}{\\left(t \\right)} \\right)} \\frac{d}{d t} q_{1}{\\left(t \\right)} \\left(\\frac{d}{d t} q_{2}{\\left(t \\right)}\\right)^{3} - L_{1} g \\left(m_{1} + m_{2}\\right) \\cos{\\left(q_{1}{\\left(t \\right)} \\right)} - L_{2} g m_{2} \\cos{\\left(q_{1}{\\left(t \\right)} + q_{2}{\\left(t \\right)} \\right)} + \\tau_{1}\\right) + \\left(L_{1} \\cos{\\left(q_{2}{\\left(t \\right)} \\right)} + L_{2}\\right) \\left(L_{1} L_{2} m_{2} \\sin{\\left(q_{2}{\\left(t \\right)} \\right)} \\left(\\frac{d}{d t} q_{1}{\\left(t \\right)}\\right)^{2} + L_{2} g m_{2} \\cos{\\left(q_{1}{\\left(t \\right)} + q_{2}{\\left(t \\right)} \\right)} - \\tau_{2}\\right)}{L_{1}^{2} L_{2} \\left(m_{1} + m_{2} \\sin^{2}{\\left(q_{2}{\\left(t \\right)} \\right)}\\right)}\\\\\\frac{- L_{2} m_{2} \\left(L_{1} \\cos{\\left(q_{2}{\\left(t \\right)} \\right)} + L_{2}\\right) \\left(2 L_{1} L_{2} m_{2} \\sin{\\left(q_{2}{\\left(t \\right)} \\right)} \\frac{d}{d t} q_{1}{\\left(t \\right)} \\left(\\frac{d}{d t} q_{2}{\\left(t \\right)}\\right)^{3} - L_{1} g \\left(m_{1} + m_{2}\\right) \\cos{\\left(q_{1}{\\left(t \\right)} \\right)} - L_{2} g m_{2} \\cos{\\left(q_{1}{\\left(t \\right)} + q_{2}{\\left(t \\right)} \\right)} + \\tau_{1}\\right) - \\left(L_{1} L_{2} m_{2} \\sin{\\left(q_{2}{\\left(t \\right)} \\right)} \\left(\\frac{d}{d t} q_{1}{\\left(t \\right)}\\right)^{2} + L_{2} g m_{2} \\cos{\\left(q_{1}{\\left(t \\right)} + q_{2}{\\left(t \\right)} \\right)} - \\tau_{2}\\right) \\left(L_{1}^{2} m_{1} + L_{1}^{2} m_{2} + 2 L_{1} L_{2} m_{2} \\cos{\\left(q_{2}{\\left(t \\right)} \\right)} + L_{2}^{2} m_{2}\\right)}{L_{1}^{2} L_{2}^{2} m_{2} \\left(m_{1} + m_{2} \\sin^{2}{\\left(q_{2}{\\left(t \\right)} \\right)}\\right)}\\end{matrix}\\right]$"
      ],
      "text/plain": [
       "Matrix([\n",
       "[                                                                   (L2*(2*L1*L2*m2*sin(q2(t))*Derivative(q1(t), t)*Derivative(q2(t), t)**3 - L1*g*(m1 + m2)*cos(q1(t)) - L2*g*m2*cos(q1(t) + q2(t)) + tau1) + (L1*cos(q2(t)) + L2)*(L1*L2*m2*sin(q2(t))*Derivative(q1(t), t)**2 + L2*g*m2*cos(q1(t) + q2(t)) - tau2))/(L1**2*L2*(m1 + m2*sin(q2(t))**2))],\n",
       "[(-L2*m2*(L1*cos(q2(t)) + L2)*(2*L1*L2*m2*sin(q2(t))*Derivative(q1(t), t)*Derivative(q2(t), t)**3 - L1*g*(m1 + m2)*cos(q1(t)) - L2*g*m2*cos(q1(t) + q2(t)) + tau1) - (L1*L2*m2*sin(q2(t))*Derivative(q1(t), t)**2 + L2*g*m2*cos(q1(t) + q2(t)) - tau2)*(L1**2*m1 + L1**2*m2 + 2*L1*L2*m2*cos(q2(t)) + L2**2*m2))/(L1**2*L2**2*m2*(m1 + m2*sin(q2(t))**2))]])"
      ]
     },
     "execution_count": 26,
     "metadata": {},
     "output_type": "execute_result"
    }
   ],
   "source": [
    "eq = (m_t_inv*(M([[tau1],[tau2]])-c_t_td-g_t)).applyfunc(sp.simplify)\n",
    "eq"
   ]
  },
  {
   "cell_type": "code",
   "execution_count": 42,
   "metadata": {},
   "outputs": [
    {
     "data": {
      "text/latex": [
       "$\\displaystyle \\left[\\begin{matrix}x_{3}\\\\x_{4}\\\\\\frac{L_{2} \\cdot \\left(2 L_{1} L_{2} m_{2} x_{3} x_{4}^{3} \\sin{\\left(x_{2} \\right)} - L_{1} g \\left(m_{1} + m_{2}\\right) \\cos{\\left(x_{1} \\right)} - L_{2} g m_{2} \\cos{\\left(x_{1} + x_{2} \\right)} + \\tau_{1}\\right) + \\left(L_{1} \\cos{\\left(x_{2} \\right)} + L_{2}\\right) \\left(L_{1} L_{2} m_{2} x_{3}^{2} \\sin{\\left(x_{2} \\right)} + L_{2} g m_{2} \\cos{\\left(x_{1} + x_{2} \\right)} - \\tau_{2}\\right)}{L_{1}^{2} L_{2} \\left(m_{1} + m_{2} \\sin^{2}{\\left(x_{2} \\right)}\\right)}\\\\\\frac{- L_{2} m_{2} \\left(L_{1} \\cos{\\left(x_{2} \\right)} + L_{2}\\right) \\left(2 L_{1} L_{2} m_{2} x_{3} x_{4}^{3} \\sin{\\left(x_{2} \\right)} - L_{1} g \\left(m_{1} + m_{2}\\right) \\cos{\\left(x_{1} \\right)} - L_{2} g m_{2} \\cos{\\left(x_{1} + x_{2} \\right)} + \\tau_{1}\\right) - \\left(L_{1} L_{2} m_{2} x_{3}^{2} \\sin{\\left(x_{2} \\right)} + L_{2} g m_{2} \\cos{\\left(x_{1} + x_{2} \\right)} - \\tau_{2}\\right) \\left(L_{1}^{2} m_{1} + L_{1}^{2} m_{2} + 2 L_{1} L_{2} m_{2} \\cos{\\left(x_{2} \\right)} + L_{2}^{2} m_{2}\\right)}{L_{1}^{2} L_{2}^{2} m_{2} \\left(m_{1} + m_{2} \\sin^{2}{\\left(x_{2} \\right)}\\right)}\\end{matrix}\\right]$"
      ],
      "text/plain": [
       "Matrix([\n",
       "[                                                                                                                                                                                                                                                                  x3],\n",
       "[                                                                                                                                                                                                                                                                  x4],\n",
       "[                                                                (L2*(2*L1*L2*m2*x3*x4**3*sin(x2) - L1*g*(m1 + m2)*cos(x1) - L2*g*m2*cos(x1 + x2) + tau1) + (L1*cos(x2) + L2)*(L1*L2*m2*x3**2*sin(x2) + L2*g*m2*cos(x1 + x2) - tau2))/(L1**2*L2*(m1 + m2*sin(x2)**2))],\n",
       "[(-L2*m2*(L1*cos(x2) + L2)*(2*L1*L2*m2*x3*x4**3*sin(x2) - L1*g*(m1 + m2)*cos(x1) - L2*g*m2*cos(x1 + x2) + tau1) - (L1*L2*m2*x3**2*sin(x2) + L2*g*m2*cos(x1 + x2) - tau2)*(L1**2*m1 + L1**2*m2 + 2*L1*L2*m2*cos(x2) + L2**2*m2))/(L1**2*L2**2*m2*(m1 + m2*sin(x2)**2))]])"
      ]
     },
     "execution_count": 42,
     "metadata": {},
     "output_type": "execute_result"
    }
   ],
   "source": [
    "x1, x2, x3, x4 = sp.symbols('x1 x2 x3 x4')\n",
    "x = M([[x3],\n",
    "       [x4],\n",
    "       [eq[0,0].subs({q1:x1, q2:x2, dq1:x3, dq2:x4})],\n",
    "       [eq[1,0].subs({q1:x1, q2:x2, dq1:x3, dq2:x4})]])\n",
    "x"
   ]
  },
  {
   "cell_type": "code",
   "execution_count": 44,
   "metadata": {},
   "outputs": [
    {
     "name": "stdout",
     "output_type": "stream",
     "text": [
      "(-L2*m2*(L1*cos(x2) + L2)*(2*L1*L2*m2*x3*x4**3*sin(x2) - L1*g*(m1 + m2)*cos(x1) - L2*g*m2*cos(x1 + x2) + tau1) - (L1*L2*m2*x3**2*sin(x2) + L2*g*m2*cos(x1 + x2) - tau2)*(L1**2*m1 + L1**2*m2 + 2*L1*L2*m2*cos(x2) + L2**2*m2))/(L1**2*L2**2*m2*(m1 + m2*sin(x2)**2))\n"
     ]
    }
   ],
   "source": [
    "print(x[3,0])"
   ]
  },
  {
   "attachments": {},
   "cell_type": "markdown",
   "metadata": {},
   "source": [
    "(L2*(2*L1*L2*m2*x3*x4**3*sin(x2) - L1*g*(m1 + m2)*cos(x1) - L2*g*m2*cos(x1 + x2) + tau1) + (L1*cos(x2) + L2)*(L1*L2*m2*x3**2*sin(x2) + L2*g*m2*cos(x1 + x2) - tau2))/(L1**2*L2*(m1 + m2*sin(x2)**2))\n",
    "\n",
    "\n",
    "(-L2*m2*(L1*cos(x2) + L2)*(2*L1*L2*m2*x3*x4**3*sin(x2) - L1*g*(m1 + m2)*cos(x1) - L2*g*m2*cos(x1 + x2) + tau1) - (L1*L2*m2*x3**2*sin(x2) + L2*g*m2*cos(x1 + x2) - tau2)*(L1**2*m1 + L1**2*m2 + 2*L1*L2*m2*cos(x2) + L2**2*m2))/(L1**2*L2**2*m2*(m1 + m2*sin(x2)**2))"
   ]
  }
 ],
 "metadata": {
  "kernelspec": {
   "display_name": "base",
   "language": "python",
   "name": "python3"
  },
  "language_info": {
   "codemirror_mode": {
    "name": "ipython",
    "version": 3
   },
   "file_extension": ".py",
   "mimetype": "text/x-python",
   "name": "python",
   "nbconvert_exporter": "python",
   "pygments_lexer": "ipython3",
   "version": "3.10.11"
  },
  "orig_nbformat": 4
 },
 "nbformat": 4,
 "nbformat_minor": 2
}
