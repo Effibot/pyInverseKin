{
 "cells": [
  {
   "cell_type": "code",
   "execution_count": 1,
   "metadata": {},
   "outputs": [],
   "source": [
    "import sympy as sp\n",
    "from sympy import cos as c, sin as s, pi, Function as f, Matrix as M\n",
    "import numpy as np\n",
    "from scipy.integrate import odeint\n",
    "import matplotlib.pyplot as plt\n",
    "\n",
    "# Define the independent variable\n",
    "x, y, t, l1, l2, m1, m2 = sp.symbols(\"x y t l1 l2 m1 m2\")\n",
    "L1, L2, g = sp.symbols(\"L1 L2 g\")\n",
    "q1, q2 = f(\"q1\")(t), f(\"q2\")(t)\n",
    "c1, s1, c2, s2, c12, s12 = c(q1), s(q1), c(q2), s(q2), c(q1 + q2), s(q1 + q2)\n",
    "t_diff = lambda expr: sp.diff(expr, t) if t in expr.free_symbols else expr\n",
    "\n",
    "# Define the forward kinematics\n",
    "R1 = M([[c1, -s1, 0], [s1, c1, 0], [0, 0, 1]])\n",
    "T1 = M([[1, 0, l1], [0, 1, 0], [0, 0, 1]])\n",
    "R2 = M([[c2, -s2, 0], [s2, c2, 0], [0, 0, 1]])\n",
    "T2 = M([[1, 0, l2], [0, 1, 0], [0, 0, 1]])\n",
    "Q01 = R1 * T1\n",
    "Q12 = R2 * T2\n",
    "Q02 = Q01 * Q12\n",
    "Q02 = Q02.applyfunc(sp.simplify)\n",
    "Ph = M([[x], [0], [1]])\n",
    "\n",
    "dq1 = q1.diff(t)\n",
    "dq2 = q2.diff(t)\n",
    "ddq1 = dq1.diff(t)\n",
    "ddq2 = dq2.diff(t)\n",
    "tau1, tau2 = sp.symbols(\"tau1 tau2\")"
   ]
  },
  {
   "attachments": {},
   "cell_type": "markdown",
   "metadata": {},
   "source": [
    "$$\\frac{d}{dt}\\frac{\\partial L}{\\partial \\dot{q}_i} - \\frac{\\partial L}{\\partial q_i} = \\tau_i$$\n",
    "$$M(q)\\ddot{q} + C(q,\\dot{q}) + G(q) = \\tau$$\n"
   ]
  },
  {
   "cell_type": "code",
   "execution_count": 2,
   "metadata": {},
   "outputs": [],
   "source": [
    "m_t = M(\n",
    "    [\n",
    "        [\n",
    "            m1 * L1**2 + m2 * (L1**2 + 2 * L1 * L2 * c2 + L2**2),\n",
    "            m2 * (L1 * L2 * c2 + L2**2),\n",
    "        ],\n",
    "        [m2 * (L1 * L2 * c2 + L2**2), m2 * L2**2],\n",
    "    ]\n",
    ")\n",
    "c_t_dt = M(\n",
    "    [[-m2 * L1 * L2 * s2 * (2 * dq1 * dq2 * dq2**2)], [m2 * L1 * L2 * s2 * dq1**2]]\n",
    ")\n",
    "g_t = M(\n",
    "    [\n",
    "        [(m1 + m2) * g * L1 * c(q1) + m2 * g * L2 * c(q1 + q2)],\n",
    "        [m2 * g * L2 * c(q1 + q2)],\n",
    "    ]\n",
    ")\n",
    "m_t_inv = M(\n",
    "    [\n",
    "        [\n",
    "            1 / (L1**2 * m1 - L1**2 * m2 * c2**2 + L1**2 * m2),\n",
    "            (-L1 * c2 - L2)\n",
    "            / (L1**2 * L2 * m1 - L1**2 * L2 * m2 * c2**2 + L1**2 * L2 * m2),\n",
    "        ],\n",
    "        [\n",
    "            (-L1 * c2 - L2)\n",
    "            / (L1**2 * L2 * m1 - L1**2 * L2 * m2 * c2**2 + L1**2 * L2 * m2),\n",
    "            (L1**2 * m1 + L1**2 * m2 + 2 * L1 * L2 * m2 * c2 + L2**2 * m2)\n",
    "            / (\n",
    "                L1**2 * L2**2 * m1 * m2\n",
    "                - L1**2 * L2**2 * m2**2 * c2**2\n",
    "                + L1**2 * L2**2 * m2**2\n",
    "            ),\n",
    "        ],\n",
    "    ]\n",
    ")\n"
   ]
  },
  {
   "cell_type": "code",
   "execution_count": 3,
   "metadata": {},
   "outputs": [],
   "source": [
    "#eq = m_t.inv() * (-c_t_dt - g_t - M([[tau1], [tau2]]))\n",
    "#eq = eq.applyfunc(sp.simplify)\n"
   ]
  },
  {
   "cell_type": "code",
   "execution_count": 4,
   "metadata": {},
   "outputs": [
    {
     "data": {
      "text/latex": [
       "$\\displaystyle \\left[\\begin{matrix}\\frac{L_{2} \\cdot \\left(2 L_{1} L_{2} m_{2} \\sin{\\left(q_{2}{\\left(t \\right)} \\right)} \\frac{d}{d t} q_{1}{\\left(t \\right)} \\left(\\frac{d}{d t} q_{2}{\\left(t \\right)}\\right)^{3} - L_{1} g \\left(m_{1} + m_{2}\\right) \\cos{\\left(q_{1}{\\left(t \\right)} \\right)} - L_{2} g m_{2} \\cos{\\left(q_{1}{\\left(t \\right)} + q_{2}{\\left(t \\right)} \\right)} - \\tau_{1}\\right) + \\left(L_{1} \\cos{\\left(q_{2}{\\left(t \\right)} \\right)} + L_{2}\\right) \\left(L_{1} L_{2} m_{2} \\sin{\\left(q_{2}{\\left(t \\right)} \\right)} \\left(\\frac{d}{d t} q_{1}{\\left(t \\right)}\\right)^{2} + L_{2} g m_{2} \\cos{\\left(q_{1}{\\left(t \\right)} + q_{2}{\\left(t \\right)} \\right)} + \\tau_{2}\\right)}{L_{1}^{2} L_{2} \\left(m_{1} + m_{2} \\sin^{2}{\\left(q_{2}{\\left(t \\right)} \\right)}\\right)}\\\\\\frac{L_{2} m_{2} \\left(L_{1} \\cos{\\left(q_{2}{\\left(t \\right)} \\right)} + L_{2}\\right) \\left(- 2 L_{1} L_{2} m_{2} \\sin{\\left(q_{2}{\\left(t \\right)} \\right)} \\frac{d}{d t} q_{1}{\\left(t \\right)} \\left(\\frac{d}{d t} q_{2}{\\left(t \\right)}\\right)^{3} + L_{1} g \\left(m_{1} + m_{2}\\right) \\cos{\\left(q_{1}{\\left(t \\right)} \\right)} + L_{2} g m_{2} \\cos{\\left(q_{1}{\\left(t \\right)} + q_{2}{\\left(t \\right)} \\right)} + \\tau_{1}\\right) - \\left(L_{1} L_{2} m_{2} \\sin{\\left(q_{2}{\\left(t \\right)} \\right)} \\left(\\frac{d}{d t} q_{1}{\\left(t \\right)}\\right)^{2} + L_{2} g m_{2} \\cos{\\left(q_{1}{\\left(t \\right)} + q_{2}{\\left(t \\right)} \\right)} + \\tau_{2}\\right) \\left(L_{1}^{2} m_{1} + L_{1}^{2} m_{2} + 2 L_{1} L_{2} m_{2} \\cos{\\left(q_{2}{\\left(t \\right)} \\right)} + L_{2}^{2} m_{2}\\right)}{L_{1}^{2} L_{2}^{2} m_{2} \\left(m_{1} + m_{2} \\sin^{2}{\\left(q_{2}{\\left(t \\right)} \\right)}\\right)}\\end{matrix}\\right]$"
      ],
      "text/plain": [
       "Matrix([\n",
       "[                                                                   (L2*(2*L1*L2*m2*sin(q2(t))*Derivative(q1(t), t)*Derivative(q2(t), t)**3 - L1*g*(m1 + m2)*cos(q1(t)) - L2*g*m2*cos(q1(t) + q2(t)) - tau1) + (L1*cos(q2(t)) + L2)*(L1*L2*m2*sin(q2(t))*Derivative(q1(t), t)**2 + L2*g*m2*cos(q1(t) + q2(t)) + tau2))/(L1**2*L2*(m1 + m2*sin(q2(t))**2))],\n",
       "[(L2*m2*(L1*cos(q2(t)) + L2)*(-2*L1*L2*m2*sin(q2(t))*Derivative(q1(t), t)*Derivative(q2(t), t)**3 + L1*g*(m1 + m2)*cos(q1(t)) + L2*g*m2*cos(q1(t) + q2(t)) + tau1) - (L1*L2*m2*sin(q2(t))*Derivative(q1(t), t)**2 + L2*g*m2*cos(q1(t) + q2(t)) + tau2)*(L1**2*m1 + L1**2*m2 + 2*L1*L2*m2*cos(q2(t)) + L2**2*m2))/(L1**2*L2**2*m2*(m1 + m2*sin(q2(t))**2))]])"
      ]
     },
     "execution_count": 4,
     "metadata": {},
     "output_type": "execute_result"
    }
   ],
   "source": [
    "eq = M(\n",
    "    [\n",
    "        [\n",
    "            (\n",
    "                L2\n",
    "                * (\n",
    "                    2 * L1 * L2 * m2 * s(q2) * sp.diff(q1, t) * sp.diff(q2, t) ** 3\n",
    "                    - L1 * g * (m1 + m2) * c(q1)\n",
    "                    - L2 * g * m2 * c(q1 + q2)\n",
    "                    - tau1\n",
    "                )\n",
    "                + (L1 * c(q2) + L2)\n",
    "                * (\n",
    "                    L1 * L2 * m2 * s(q2) * sp.diff(q1, t) ** 2\n",
    "                    + L2 * g * m2 * c(q1 + q2)\n",
    "                    + tau2\n",
    "                )\n",
    "            )\n",
    "            / (L1**2 * L2 * (m1 + m2 * s(q2) ** 2))\n",
    "        ],\n",
    "        [\n",
    "            (\n",
    "                L2\n",
    "                * m2\n",
    "                * (L1 * c(q2) + L2)\n",
    "                * (\n",
    "                    -2 * L1 * L2 * m2 * s(q2) * sp.diff(q1, t) * sp.diff(q2, t) ** 3\n",
    "                    + L1 * g * (m1 + m2) * c(q1)\n",
    "                    + L2 * g * m2 * c(q1 + q2)\n",
    "                    + tau1\n",
    "                )\n",
    "                - (\n",
    "                    L1 * L2 * m2 * s(q2) * sp.diff(q1, t) ** 2\n",
    "                    + L2 * g * m2 * c(q1 + q2)\n",
    "                    + tau2\n",
    "                )\n",
    "                * (\n",
    "                    L1**2 * m1\n",
    "                    + L1**2 * m2\n",
    "                    + 2 * L1 * L2 * m2 * c(q2)\n",
    "                    + L2**2 * m2\n",
    "                )\n",
    "            )\n",
    "            / (L1**2 * L2**2 * m2 * (m1 + m2 * s(q2) ** 2))\n",
    "        ],\n",
    "    ]\n",
    ")\n",
    "eq"
   ]
  },
  {
   "cell_type": "code",
   "execution_count": 5,
   "metadata": {},
   "outputs": [],
   "source": [
    "# sols = sp.solve(eq, [ddq1, ddq2], rational=True, simplify=True)\n",
    "# ddq1_sol = sols[ddq1]\n",
    "# ddq2_sol = sols[ddq2]\n",
    "sols = eq\n",
    "ddq1_sol = sols[0]\n",
    "ddq2_sol = sols[1]"
   ]
  },
  {
   "attachments": {},
   "cell_type": "markdown",
   "metadata": {},
   "source": [
    "> convert to state npace form:\n",
    "\n",
    "Assume $x=\\begin{bmatrix} q & \\dot{q} \\end{bmatrix}^T$, then we have:\n",
    "\n",
    "$$\n",
    "\\begin{bmatrix}x_1 \\\\ x_2 \\\\ x_3 \\\\ x_4\\end{bmatrix} = \\begin{bmatrix} q_1 \\\\ \\dot{q}_1 \\\\ q_2 \\\\\\dot{q}_2 \\end{bmatrix}\n",
    "\\Longrightarrow\n",
    "\\begin{bmatrix} \\dot{x}_1 \\\\ \\dot{x}_2 \\\\ \\dot{x}_3 \\\\ \\dot{x}_4\\end{bmatrix} = \\begin{bmatrix} x_2 \\\\  \\ddot{q}_1 \\\\ x_4 \\\\ \\ddot{q}_2 \\end{bmatrix}\n",
    "$$\n",
    "\n",
    "In other words, we have:\n",
    "$$\\dot{x} = \\begin{bmatrix} \\dot{q} \\\\ M(q)^{-1}(\\tau - C(q,\\dot{q}) - G(q)) \\end{bmatrix}$$\n"
   ]
  },
  {
   "cell_type": "code",
   "execution_count": 6,
   "metadata": {},
   "outputs": [],
   "source": [
    "x1, x2, x3, x4 = sp.symbols(\"x1 x2 x3 x4\", cls=sp.Function)\n",
    "x1, x2, x3, x4 = x1(t), x2(t), x3(t), x4(t)\n",
    "# x1_d, x2_d, x3_d, x4_d = sp.symbols(r'\\dot{x}_1 \\dot{x}_2 \\dot{x}_3 \\dot{x}_4')\n",
    "# x = M([x1, x2, x3, x4])\n",
    "# x_d = M([x1_d, x2_d, x3_d, x4_d])\n",
    "# substitute the symbols with the states\n",
    "x1_d = x3\n",
    "x2_d = x4\n",
    "x3_d = ddq1_sol.subs({q1: x1, q2: x2, dq1: x3, dq2: x4})\n",
    "x4_d = ddq2_sol.subs({q1: x1, q2: x2, dq1: x3, dq2: x4})\n",
    "Gx = g_t.subs({q1: x1, q2: x2})\n",
    "Cx = c_t_dt.subs({q1: x1, q2: x2, dq1: x3, dq2: x4})\n",
    "# define functions for the dynamics\n",
    "x1_d_f = sp.lambdify(x1.diff(t), x1.diff(t))\n",
    "x2_d_f = sp.lambdify(x2.diff(t), x2.diff(t))\n",
    "x3_d_f = sp.lambdify([t, x1, x2, x3, x4, tau1, tau2, m1, m2, g, L1, L2], x3_d)\n",
    "x4_d_f = sp.lambdify([t, x1, x2, x3, x4, tau1, tau2, m1, m2, g, L1, L2], x4_d)\n",
    "G = sp.lambdify([x1, x2, x3, x4, m1, m2, g, L1, L2], Gx)\n",
    "C = sp.lambdify([x1, x2, x3, x4, m1, m2, g, L1, L2], Cx)\n"
   ]
  },
  {
   "cell_type": "code",
   "execution_count": 7,
   "metadata": {},
   "outputs": [],
   "source": [
    "x1_sat = sp.lambdify(\n",
    "    args=x,\n",
    "    expr=sp.Piecewise((-np.pi, x <= -np.pi), (np.pi, x >= np.pi), (x, True)),\n",
    "    modules=\"numpy\",\n",
    ")\n",
    "x3_sat = sp.lambdify(\n",
    "    args=x,\n",
    "    expr=sp.Piecewise(\n",
    "        (-3 / 4 * np.pi, x <= -3 / 4 * np.pi),\n",
    "        (3 / 4 * np.pi, x >= 3 / 4 * np.pi),\n",
    "        (x, True),\n",
    "    ),\n",
    "    modules=\"numpy\",\n",
    ")\n",
    "x34_sat = sp.lambdify(\n",
    "    args=x,\n",
    "    expr=sp.Piecewise(\n",
    "        (-np.pi / 180, x <= np.pi / 180), (np.pi / 180, x >= np.pi / 180), (x, True)\n",
    "    ),\n",
    "    modules=\"numpy\",\n",
    ")"
   ]
  },
  {
   "cell_type": "code",
   "execution_count": 18,
   "metadata": {},
   "outputs": [],
   "source": [
    "# define interface to evaluate the dynamics\n",
    "def dxdt(x, t, tau1, tau2, m1, m2, g, L1, L2):\n",
    "    x1, x2, x3, x4 = x\n",
    "    return [\n",
    "        x1_d_f(x3),  # x1_d = q1_d\n",
    "        x3_d_f(t, x1, x2, x3, x4, tau1, tau2, m1, m2, g, L1, L2),  # x3_d = q1_dd\n",
    "        x2_d_f(x4),  # x2_d = q2_d\n",
    "        x4_d_f(t, x1, x2, x3, x4, tau1, tau2, m1, m2, g, L1, L2),  # x4_d = q2_dd\n",
    "    ]\n",
    "\n",
    "\n",
    "# Replace the symbols with the states\n",
    "Q02 = Q02.subs({l1: L1, l2: L2, q1: x1, q2: x2})\n",
    "P = (Q02 * M([[0], [0], [1]]))[0:2, 0]\n",
    "# Define the forward kinematics as a function of the states\n",
    "fk = sp.lambdify([x1, x2, L1, L2], P)\n",
    "P01 = Q01[0:2, 2].subs({l1: L1, q1: x1})\n",
    "P01_x = sp.lambdify([x1, L1], P01[0])\n",
    "P01_y = sp.lambdify([x1, L1], P01[1])\n",
    "P02 = Q02[0:2, 2].subs({l1: L1, l2: L2, q1: x1, q2: x2})\n",
    "P02_x = sp.lambdify([x1, x2, L1, L2], P02[0])\n",
    "P02_y = sp.lambdify([x1, x2, L1, L2], P02[1])\n",
    "\n",
    "\n",
    "def get_links(t, q1, q2, L1, L2):\n",
    "    l1x = P01_x(q1, L1)\n",
    "    l1y = -P01_y(q1, L1)\n",
    "    l2x = P02_x(q1, q2, L1, L2)\n",
    "    l2y = -P02_y(q1, q2, L1, L2)\n",
    "    return l1x, l1y, l2x, l2y"
   ]
  },
  {
   "cell_type": "code",
   "execution_count": 19,
   "metadata": {},
   "outputs": [],
   "source": [
    "#import math\n",
    "#ti = 0\n",
    "#tf = 60\n",
    "#num_points = 1000\n",
    "#step = (tf - ti) / num_points\n",
    "#time = np.linspace(ti, tf, num_points, endpoint=True)\n",
    "#g = 9.81\n",
    "#m1 = 2\n",
    "#m2 = 1\n",
    "#L1_ = 2\n",
    "#L2_ = 1\n",
    "#x0 = [0, 0, 0, 0]\n",
    "#y_i = np.zeros((len(time), 4))\n",
    "#y_i[0] = x0\n",
    "#res = np.zeros((len(time), 4))\n",
    "#\n",
    "#for i in range(1, len(time)):\n",
    "#    ans = odeint(\n",
    "#        dxdt,\n",
    "#        y0=y_i[i - 1],\n",
    "#        t=[time[i - 1], time[i]],\n",
    "#        args=(100, 0, m1, m2, 0, L1_, L2_),\n",
    "#    )\n",
    "#    y_i[i] = ans[-1]\n",
    "#    res[i] = [y_i[i,0], y_i[i,2], y_i[i,1], y_i[i,3]]\n",
    "#    #y1_i = math.remainder((ans.T[0])[-1],2*np.pi)  # q1\n",
    "#    #y2_i = (ans.T[1])[-1]  # q1_d\n",
    "#    #y3_i = math.remainder((ans.T[2])[-1],2*np.pi)  # q2\n",
    "    #y4_i = (ans.T[3])[-1]  # q2_d\n",
    "    #y_i = [y1_i, y2_i, y3_i, y4_i]\n",
    "    #res[i] = [y1_i, y3_i, y2_i, y4_i]\n",
    "    #i = i + 1\n",
    "#p = fk(res[:, 0], res[:, 1], L1_, L2_)\n",
    "#p = p.reshape((2, len(time)))\n",
    "#plt.scatter(p[0, :], p[1, :], s=1)"
   ]
  },
  {
   "cell_type": "code",
   "execution_count": 20,
   "metadata": {},
   "outputs": [],
   "source": [
    "def wrap_to_interval(angle, a, b):\n",
    "    angle_range = b - a\n",
    "    wrapped_angle = (angle - a) % angle_range + a\n",
    "    return wrapped_angle\n"
   ]
  },
  {
   "cell_type": "code",
   "execution_count": 56,
   "metadata": {},
   "outputs": [
    {
     "data": {
      "text/plain": [
       "<matplotlib.collections.PathCollection at 0x7ff46b9abbb0>"
      ]
     },
     "execution_count": 56,
     "metadata": {},
     "output_type": "execute_result"
    },
    {
     "data": {
      "image/png": "[encoded data removed]",
      "text/plain": [
       "<Figure size 640x480 with 1 Axes>"
      ]
     },
     "metadata": {},
     "output_type": "display_data"
    }
   ],
   "source": [
    "ti = 0\n",
    "tf = 120\n",
    "step = 0.1\n",
    "num_points = int((tf - ti) / step)+1\n",
    "time = np.linspace(ti, tf, num_points, endpoint=True)\n",
    "i = 0\n",
    "x_k = np.array([0, 0, 0, 0], dtype=float) # q1 dq1 q2 dq2\n",
    "res = np.zeros((len(time), 4), dtype=float)\n",
    "m1 = 2\n",
    "m2 = 1\n",
    "L1_ = 2\n",
    "L2_ = 1\n",
    "g_ = -9.81\n",
    "vel_sat = np.pi/180\n",
    "dx1, dx2, dx3, dx4 = 0, 0, 0, 0\n",
    "tau = [0, 0]\n",
    "while ti <= tf:\n",
    "    # compensate gravity\n",
    "    #tau = (G(x_k[0], x_k[1], x_k[2], x_k[3], m1, m2, g_, L1_, L2_) + np.array([[0], [0]])).T[0]\n",
    "    \n",
    "    # evaluate the dynamics\n",
    "    dx1 = x1_d_f(x_k[1])\n",
    "    dx2 = x2_d_f(x_k[2])\n",
    "    dx3 = (x3_d_f(t, x_k[0], x_k[1], x_k[2], x_k[3], tau[0], tau[1], m1, m2, g_, L1_, L2_))\n",
    "    dx4 = (x4_d_f(t, x_k[0], x_k[1], x_k[2], x_k[3], tau[0], tau[1], m1, m2, g_, L1_, L2_))\n",
    "\n",
    "    # update the states, saturate the angles\n",
    "    #x_k[0] = wrap_to_interval(x_k[0] + step * dx1, -np.pi, np.pi)\n",
    "    \n",
    "    x_k[0] = np.clip(x_k[0] + step * dx1, 0, 2*np.pi)\n",
    "    x_k[1] = np.clip(x_k[1] + step * dx2, -3/4*np.pi, 3/4*np.pi)\n",
    "    x_k[2] = np.clip(x_k[2] + step * dx3,-vel_sat, vel_sat)\n",
    "    x_k[3] = np.clip(x_k[3] + step * dx4, -vel_sat, vel_sat)\n",
    "    #x_k[2] = x_k[2] + step * dx3\n",
    "    #x_k[3] = x_k[3] + step * dx4\n",
    "\n",
    "    res[i,:] = [x_k[0], x_k[1], x_k[2], x_k[3]]\n",
    "    i = i + 1\n",
    "\n",
    "    # update the time\n",
    "    ti = ti + step\n",
    "    \n",
    "p = fk(res[:, 0], res[:, 1], L1_, L2_)\n",
    "plt.scatter(p[0, :], -p[1, :], s=1)"
   ]
  },
  {
   "cell_type": "code",
   "execution_count": 54,
   "metadata": {},
   "outputs": [
    {
     "data": {
      "image/png": "[encoded data removed]",
      "text/plain": [
       "<Figure size 800x800 with 1 Axes>"
      ]
     },
     "metadata": {},
     "output_type": "display_data"
    }
   ],
   "source": [
    "from matplotlib import animation\n",
    "l1x, l1y, l2x, l2y = get_links(t, res[:, 0], res[:, 1], L1_, L2_)\n",
    "def animate(i):\n",
    "    ln1.set_data([0, l1x[i], l2x[i]], [0, l1y[i], l2y[i]])\n",
    "fig, ax = plt.subplots(1,1, figsize=(8,8))\n",
    "ax.set_facecolor('k')\n",
    "ax.get_xaxis().set_ticks([])    # enable this to hide x axis ticks\n",
    "ax.get_yaxis().set_ticks([])    # enable this to hide y axis ticks\n",
    "ln1, = plt.plot([], [], 'ro--', lw=3, markersize=8)\n",
    "ax.set_ylim(-4,4)\n",
    "ax.set_xlim(-4,4)\n",
    "ani = animation.FuncAnimation(fig, animate, frames=1000, interval=50)\n",
    "ani.save('pen.gif',writer='pillow',fps=len(time[time<1]))"
   ]
  },
  {
   "attachments": {},
   "cell_type": "markdown",
   "metadata": {},
   "source": [
    "(L2*(2*L1*L2*m2*x3*x4**3*sin(x2) - L1*g*(m1 + m2)*cos(x1) - L2*g*m2*cos(x1 + x2) + tau1) + (L1*cos(x2) + L2)*(L1*L2*m2*x3**2*sin(x2) + L2*g*m2*cos(x1 + x2) - tau2))/(L1**2*L2*(m1 + m2\\*sin(x2)**2))\n",
    "\n",
    "(-L2*m2*(L1*cos(x2) + L2)*(2*L1*L2*m2*x3*x4\\*\\*3*sin(x2) - L1*g*(m1 + m2)*cos(x1) - L2*g*m2*cos(x1 + x2) + tau1) - (L1*L2*m2*x3\\*\\*2*sin(x2) + L2*g*m2*cos(x1 + x2) - tau2)*(L1**2\\*m1 + L1**2*m2 + 2*L1*L2*m2*cos(x2) + L2\\*\\*2*m2))/(L1**2\\*L2**2*m2*(m1 + m2\\*sin(x2)\\*\\*2))\n"
   ]
  },
  {
   "attachments": {},
   "cell_type": "markdown",
   "metadata": {},
   "source": []
  }
 ],
 "metadata": {
  "kernelspec": {
   "display_name": "base",
   "language": "python",
   "name": "python3"
  },
  "language_info": {
   "codemirror_mode": {
    "name": "ipython",
    "version": 3
   },
   "file_extension": ".py",
   "mimetype": "text/x-python",
   "name": "python",
   "nbconvert_exporter": "python",
   "pygments_lexer": "ipython3",
   "version": "3.10.11"
  },
  "orig_nbformat": 4
 },
 "nbformat": 4,
 "nbformat_minor": 2
}
