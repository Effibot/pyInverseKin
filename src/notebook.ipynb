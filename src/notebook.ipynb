{
 "cells": [
  {
   "cell_type": "code",
   "execution_count": 60,
   "metadata": {},
   "outputs": [],
   "source": [
    "import sympy as sp\n",
    "from sympy import cos as c, sin as s, pi, Function as f, Matrix as M\n",
    "import numpy as np\n",
    "from scipy.integrate import odeint\n",
    "import matplotlib.pyplot as plt\n",
    "\n",
    "# Define the independent variable\n",
    "x, y, t, l1, l2, m1, m2 = sp.symbols(\"x y t l1 l2 m1 m2\")\n",
    "L1, L2, g = sp.symbols(\"L1 L2 g\")\n",
    "q1, q2 = f(\"q1\")(t), f(\"q2\")(t)\n",
    "c1, s1, c2, s2, c12, s12 = c(q1), s(q1), c(q2), s(q2), c(q1 + q2), s(q1 + q2)\n",
    "t_diff = lambda expr: sp.diff(expr, t) if t in expr.free_symbols else expr\n",
    "\n",
    "# Define the forward kinematics\n",
    "R1 = M([[c1, -s1, 0], [s1, c1, 0], [0, 0, 1]])\n",
    "T1 = M([[1, 0, l1], [0, 1, 0], [0, 0, 1]])\n",
    "R2 = M([[c2, -s2, 0], [s2, c2, 0], [0, 0, 1]])\n",
    "T2 = M([[1, 0, l2], [0, 1, 0], [0, 0, 1]])\n",
    "Q01 = R1 * T1\n",
    "Q12 = R2 * T2\n",
    "Q02 = Q01 * Q12\n",
    "Q02 = Q02.applyfunc(sp.simplify)\n",
    "Ph = M([[x], [0], [1]])\n",
    "\n",
    "dq1 = q1.diff(t)\n",
    "dq2 = q2.diff(t)\n",
    "ddq1 = dq1.diff(t)\n",
    "ddq2 = dq2.diff(t)\n",
    "tau1, tau2 = sp.symbols(\"tau1 tau2\")"
   ]
  },
  {
   "attachments": {},
   "cell_type": "markdown",
   "metadata": {},
   "source": [
    "$$\\frac{d}{dt}\\frac{\\partial L}{\\partial \\dot{q}_i} - \\frac{\\partial L}{\\partial q_i} = \\tau_i$$\n",
    "$$M(q)\\ddot{q} + C(q,\\dot{q})\\dot{q} + G(q) = \\tau$$\n"
   ]
  },
  {
   "cell_type": "code",
   "execution_count": 61,
   "metadata": {},
   "outputs": [],
   "source": [
    "m_t = M(\n",
    "    [\n",
    "        [\n",
    "            m1 * L1**2 + m2 * (L1**2 + 2 * L1 * L2 * c2 + L2**2),\n",
    "            m2 * (L1 * L2 * c2 + L2**2),\n",
    "        ],\n",
    "        [m2 * (L1 * L2 * c2 + L2**2), m2 * L2**2],\n",
    "    ]\n",
    ")\n",
    "c_t_td = M(\n",
    "    [[-m2 * L1 * L2 * s2 * (2 * dq1 * dq2 * dq2**2)], [m2 * L1 * L2 * s2 * dq1**2]]\n",
    ")\n",
    "g_t = M(\n",
    "    [\n",
    "        [(m1 + m2) * g * L1 * c(q1) + m2 * g * L2 * c(q1 + q2)],\n",
    "        [m2 * g * L2 * c(q1 + q2)],\n",
    "    ]\n",
    ")"
   ]
  },
  {
   "cell_type": "code",
   "execution_count": 62,
   "metadata": {},
   "outputs": [
    {
     "data": {
      "text/latex": [
       "$\\displaystyle \\left[\\begin{matrix}\\frac{1}{L_{1}^{2} m_{1} - L_{1}^{2} m_{2} \\cos^{2}{\\left(q_{2}{\\left(t \\right)} \\right)} + L_{1}^{2} m_{2}} & \\frac{- L_{1} \\cos{\\left(q_{2}{\\left(t \\right)} \\right)} - L_{2}}{L_{1}^{2} L_{2} m_{1} - L_{1}^{2} L_{2} m_{2} \\cos^{2}{\\left(q_{2}{\\left(t \\right)} \\right)} + L_{1}^{2} L_{2} m_{2}}\\\\\\frac{- L_{1} \\cos{\\left(q_{2}{\\left(t \\right)} \\right)} - L_{2}}{L_{1}^{2} L_{2} m_{1} - L_{1}^{2} L_{2} m_{2} \\cos^{2}{\\left(q_{2}{\\left(t \\right)} \\right)} + L_{1}^{2} L_{2} m_{2}} & \\frac{L_{1}^{2} m_{1} + L_{1}^{2} m_{2} + 2 L_{1} L_{2} m_{2} \\cos{\\left(q_{2}{\\left(t \\right)} \\right)} + L_{2}^{2} m_{2}}{L_{1}^{2} L_{2}^{2} m_{1} m_{2} - L_{1}^{2} L_{2}^{2} m_{2}^{2} \\cos^{2}{\\left(q_{2}{\\left(t \\right)} \\right)} + L_{1}^{2} L_{2}^{2} m_{2}^{2}}\\end{matrix}\\right]$"
      ],
      "text/plain": [
       "Matrix([\n",
       "[                             1/(L1**2*m1 - L1**2*m2*cos(q2(t))**2 + L1**2*m2),                                                      (-L1*cos(q2(t)) - L2)/(L1**2*L2*m1 - L1**2*L2*m2*cos(q2(t))**2 + L1**2*L2*m2)],\n",
       "[(-L1*cos(q2(t)) - L2)/(L1**2*L2*m1 - L1**2*L2*m2*cos(q2(t))**2 + L1**2*L2*m2), (L1**2*m1 + L1**2*m2 + 2*L1*L2*m2*cos(q2(t)) + L2**2*m2)/(L1**2*L2**2*m1*m2 - L1**2*L2**2*m2**2*cos(q2(t))**2 + L1**2*L2**2*m2**2)]])"
      ]
     },
     "execution_count": 62,
     "metadata": {},
     "output_type": "execute_result"
    }
   ],
   "source": [
    "m_t.inv()\n"
   ]
  },
  {
   "cell_type": "code",
   "execution_count": 63,
   "metadata": {},
   "outputs": [],
   "source": [
    "eq = m_t.inv() * (-c_t_td - g_t - M([[tau1], [tau2]]))\n",
    "eq = eq.applyfunc(sp.simplify)\n"
   ]
  },
  {
   "cell_type": "code",
   "execution_count": 64,
   "metadata": {},
   "outputs": [
    {
     "data": {
      "text/latex": [
       "$\\displaystyle \\left[\\begin{matrix}\\frac{L_{2} \\cdot \\left(2 L_{1} L_{2} m_{2} \\sin{\\left(q_{2}{\\left(t \\right)} \\right)} \\frac{d}{d t} q_{1}{\\left(t \\right)} \\left(\\frac{d}{d t} q_{2}{\\left(t \\right)}\\right)^{3} - L_{1} g \\left(m_{1} + m_{2}\\right) \\cos{\\left(q_{1}{\\left(t \\right)} \\right)} - L_{2} g m_{2} \\cos{\\left(q_{1}{\\left(t \\right)} + q_{2}{\\left(t \\right)} \\right)} - \\tau_{1}\\right) + \\left(L_{1} \\cos{\\left(q_{2}{\\left(t \\right)} \\right)} + L_{2}\\right) \\left(L_{1} L_{2} m_{2} \\sin{\\left(q_{2}{\\left(t \\right)} \\right)} \\left(\\frac{d}{d t} q_{1}{\\left(t \\right)}\\right)^{2} + L_{2} g m_{2} \\cos{\\left(q_{1}{\\left(t \\right)} + q_{2}{\\left(t \\right)} \\right)} + \\tau_{2}\\right)}{L_{1}^{2} L_{2} \\left(m_{1} + m_{2} \\sin^{2}{\\left(q_{2}{\\left(t \\right)} \\right)}\\right)}\\\\\\frac{L_{2} m_{2} \\left(L_{1} \\cos{\\left(q_{2}{\\left(t \\right)} \\right)} + L_{2}\\right) \\left(- 2 L_{1} L_{2} m_{2} \\sin{\\left(q_{2}{\\left(t \\right)} \\right)} \\frac{d}{d t} q_{1}{\\left(t \\right)} \\left(\\frac{d}{d t} q_{2}{\\left(t \\right)}\\right)^{3} + L_{1} g \\left(m_{1} + m_{2}\\right) \\cos{\\left(q_{1}{\\left(t \\right)} \\right)} + L_{2} g m_{2} \\cos{\\left(q_{1}{\\left(t \\right)} + q_{2}{\\left(t \\right)} \\right)} + \\tau_{1}\\right) - \\left(L_{1} L_{2} m_{2} \\sin{\\left(q_{2}{\\left(t \\right)} \\right)} \\left(\\frac{d}{d t} q_{1}{\\left(t \\right)}\\right)^{2} + L_{2} g m_{2} \\cos{\\left(q_{1}{\\left(t \\right)} + q_{2}{\\left(t \\right)} \\right)} + \\tau_{2}\\right) \\left(L_{1}^{2} m_{1} + L_{1}^{2} m_{2} + 2 L_{1} L_{2} m_{2} \\cos{\\left(q_{2}{\\left(t \\right)} \\right)} + L_{2}^{2} m_{2}\\right)}{L_{1}^{2} L_{2}^{2} m_{2} \\left(m_{1} + m_{2} \\sin^{2}{\\left(q_{2}{\\left(t \\right)} \\right)}\\right)}\\end{matrix}\\right]$"
      ],
      "text/plain": [
       "Matrix([\n",
       "[                                                                   (L2*(2*L1*L2*m2*sin(q2(t))*Derivative(q1(t), t)*Derivative(q2(t), t)**3 - L1*g*(m1 + m2)*cos(q1(t)) - L2*g*m2*cos(q1(t) + q2(t)) - tau1) + (L1*cos(q2(t)) + L2)*(L1*L2*m2*sin(q2(t))*Derivative(q1(t), t)**2 + L2*g*m2*cos(q1(t) + q2(t)) + tau2))/(L1**2*L2*(m1 + m2*sin(q2(t))**2))],\n",
       "[(L2*m2*(L1*cos(q2(t)) + L2)*(-2*L1*L2*m2*sin(q2(t))*Derivative(q1(t), t)*Derivative(q2(t), t)**3 + L1*g*(m1 + m2)*cos(q1(t)) + L2*g*m2*cos(q1(t) + q2(t)) + tau1) - (L1*L2*m2*sin(q2(t))*Derivative(q1(t), t)**2 + L2*g*m2*cos(q1(t) + q2(t)) + tau2)*(L1**2*m1 + L1**2*m2 + 2*L1*L2*m2*cos(q2(t)) + L2**2*m2))/(L1**2*L2**2*m2*(m1 + m2*sin(q2(t))**2))]])"
      ]
     },
     "execution_count": 64,
     "metadata": {},
     "output_type": "execute_result"
    }
   ],
   "source": [
    "eq\n"
   ]
  },
  {
   "cell_type": "code",
   "execution_count": 65,
   "metadata": {},
   "outputs": [],
   "source": [
    "# sols = sp.solve(eq, [ddq1, ddq2], rational=True, simplify=True)\n",
    "# ddq1_sol = sols[ddq1]\n",
    "# ddq2_sol = sols[ddq2]\n",
    "sols = eq\n",
    "ddq1_sol = sols[0]\n",
    "ddq2_sol = sols[1]"
   ]
  },
  {
   "attachments": {},
   "cell_type": "markdown",
   "metadata": {},
   "source": [
    "> convert to state npace form:\n",
    "\n",
    "Assume $x=\\begin{bmatrix} q & \\dot{q} \\end{bmatrix}^T$, then we have:\n",
    "\n",
    "$$\n",
    "\\begin{bmatrix}x_1 \\\\ x_2 \\\\ x_3 \\\\ x_4\\end{bmatrix} = \\begin{bmatrix} q_1 \\\\ q_2 \\\\ \\dot{q}_1 \\\\ \\dot{q}_2 \\end{bmatrix}\n",
    "\\Longrightarrow\n",
    "\\begin{bmatrix} \\dot{x}_1 \\\\ \\dot{x}_2 \\\\ \\dot{x}_3 \\\\ \\dot{x}_4\\end{bmatrix} = \\begin{bmatrix} x_3 \\\\ x_4 \\\\ \\ddot{q}_1 \\\\ \\ddot{q}_2 \\end{bmatrix} = \\begin{bmatrix} x_3 \\\\ x_4 \\\\ M(q)^{-1}(\\tau - C(q,\\dot{q})\\dot{q} - G(q)) \\end{bmatrix}\n",
    "$$\n",
    "\n",
    "In other words, we have:\n",
    "$$\\dot{x} = \\begin{bmatrix} \\dot{q} \\\\ M(q)^{-1}(\\tau - C(q,\\dot{q})\\dot{q} - G(q)) \\end{bmatrix}$$\n"
   ]
  },
  {
   "cell_type": "code",
   "execution_count": 66,
   "metadata": {},
   "outputs": [],
   "source": [
    "x1, x2, x3, x4 = sp.symbols(\"x1 x2 x3 x4\", cls=sp.Function)\n",
    "x1, x2, x3, x4 = x1(t), x2(t), x3(t), x4(t)\n",
    "# x1_d, x2_d, x3_d, x4_d = sp.symbols(r'\\dot{x}_1 \\dot{x}_2 \\dot{x}_3 \\dot{x}_4')\n",
    "# x = M([x1, x2, x3, x4])\n",
    "# x_d = M([x1_d, x2_d, x3_d, x4_d])\n",
    "# substitute the symbols with the states\n",
    "x1_d = x3\n",
    "x2_d = x4\n",
    "x3_d = ddq1_sol.subs({q1: x1, q2: x2, dq1: x3, dq2: x4})\n",
    "x4_d = ddq2_sol.subs({q1: x1, q2: x2, dq1: x3, dq2: x4})\n",
    "# define functions for the dynamics\n",
    "x1_d_f = sp.lambdify(x1.diff(t), x1.diff(t))\n",
    "x2_d_f = sp.lambdify(x2.diff(t), x2.diff(t))\n",
    "x3_d_f = sp.lambdify([t, x1, x2, x3, x4, tau1, tau2, m1, m2, g, L1, L2], x3_d)\n",
    "x4_d_f = sp.lambdify([t, x1, x2, x3, x4, tau1, tau2, m1, m2, g, L1, L2], x4_d)"
   ]
  },
  {
   "cell_type": "code",
   "execution_count": 67,
   "metadata": {},
   "outputs": [],
   "source": [
    "x1_sat = sp.lambdify(\n",
    "    args=x,\n",
    "    expr=sp.Piecewise((-np.pi, x <= -np.pi), (np.pi, x >= np.pi), (x, True)),\n",
    "    modules=\"numpy\",\n",
    ")\n",
    "x2_sat = sp.lambdify(\n",
    "    args=x,\n",
    "    expr=sp.Piecewise(\n",
    "        (-3 / 4 * np.pi, x <= -3 / 4 * np.pi),\n",
    "        (3 / 4 * np.pi, x >= 3 / 4 * np.pi),\n",
    "        (x, True),\n",
    "    ),\n",
    "    modules=\"numpy\",\n",
    ")\n",
    "x34_sat = sp.lambdify(\n",
    "    args=x,\n",
    "    expr=sp.Piecewise(\n",
    "        (-np.pi / 180, x <= np.pi / 180), (np.pi / 180, x >= np.pi / 180), (x, True)\n",
    "    ),\n",
    "    modules=\"numpy\",\n",
    ")"
   ]
  },
  {
   "cell_type": "code",
   "execution_count": 88,
   "metadata": {},
   "outputs": [],
   "source": [
    "# define interface to evaluate the dynamics\n",
    "def dxdt(x, t, tau1, tau2, m1, m2, g, L1, L2):\n",
    "    x1, x2, x3, x4 = x\n",
    "    return [\n",
    "        x1_d_f(x3),  # x1_d = q1_d\n",
    "        x3_d_f(t, x1, x2, x3, x4, tau1, tau2, m1, m2, g, L1, L2),  # x3_d = q1_dd\n",
    "        x2_d_f(x4),  # x2_d = q2_d\n",
    "        x4_d_f(t, x1, x2, x3, x4, tau1, tau2, m1, m2, g, L1, L2),  # x4_d = q2_dd\n",
    "    ]\n",
    "\n",
    "\n",
    "# Replace the symbols with the states\n",
    "Q02 = Q02.subs({l1: L1, l2: L2, q1: x1, q2: x2})\n",
    "P = (Q02 * M([[0], [0], [1]]))[0:2, 0]\n",
    "# Define the forward kinematics as a function of the states\n",
    "fk = sp.lambdify([x1, x2, L1, L2], P)"
   ]
  },
  {
   "cell_type": "code",
   "execution_count": 95,
   "metadata": {},
   "outputs": [],
   "source": [
    "ti = 0\n",
    "tf = 30\n",
    "num_points = 1001\n",
    "step = (tf - ti) / num_points\n",
    "time = np.linspace(ti, tf, num_points, endpoint=True)\n",
    "g = 9.81\n",
    "m1 = 2\n",
    "m2 = 1\n",
    "L1_ = 2\n",
    "L2_ = 1\n",
    "x0 = [0, 0, 0, 0]\n",
    "y_i = x0\n",
    "res = np.zeros((len(time), 4))\n",
    "res[0] = x0\n",
    "i = 0\n",
    "for ti in time:\n",
    "    tf = ti + step\n",
    "    ans = odeint(\n",
    "        dxdt,\n",
    "        y0=y_i,\n",
    "        t=[ti, tf],\n",
    "        args=(1, 0, m1, m2, 0, L1_, L2_),\n",
    "    )\n",
    "    y1_i = (ans.T[0])[-1]  # q1\n",
    "    y2_i = (ans.T[1])[-1]  # q1_d\n",
    "    y3_i = (ans.T[2])[-1]  # q2\n",
    "    y4_i = (ans.T[3])[-1]  # q2_d\n",
    "    y_i = [y1_i, y2_i, y3_i, y4_i]\n",
    "    res[i] = [y1_i, y3_i, y2_i, y4_i]\n",
    "    i = i + 1"
   ]
  },
  {
   "cell_type": "code",
   "execution_count": 96,
   "metadata": {},
   "outputs": [
    {
     "data": {
      "text/plain": [
       "<matplotlib.collections.PathCollection at 0x7f89821b8f10>"
      ]
     },
     "execution_count": 96,
     "metadata": {},
     "output_type": "execute_result"
    },
    {
     "data": {
      "image/png": "[encoded data removed]",
      "text/plain": [
       "<Figure size 640x480 with 1 Axes>"
      ]
     },
     "metadata": {},
     "output_type": "display_data"
    }
   ],
   "source": [
    "p = fk(res[:, 0], res[:, 1], L1_, L2_)\n",
    "p = p.reshape((2, len(time)))\n",
    "plt.scatter(p[0, :], p[1, :], s=1)"
   ]
  },
  {
   "attachments": {},
   "cell_type": "markdown",
   "metadata": {},
   "source": [
    "(L2*(2*L1*L2*m2*x3*x4**3*sin(x2) - L1*g*(m1 + m2)*cos(x1) - L2*g*m2*cos(x1 + x2) + tau1) + (L1*cos(x2) + L2)*(L1*L2*m2*x3**2*sin(x2) + L2*g*m2*cos(x1 + x2) - tau2))/(L1**2*L2*(m1 + m2\\*sin(x2)**2))\n",
    "\n",
    "(-L2*m2*(L1*cos(x2) + L2)*(2*L1*L2*m2*x3*x4\\*\\*3*sin(x2) - L1*g*(m1 + m2)*cos(x1) - L2*g*m2*cos(x1 + x2) + tau1) - (L1*L2*m2*x3\\*\\*2*sin(x2) + L2*g*m2*cos(x1 + x2) - tau2)*(L1**2\\*m1 + L1**2*m2 + 2*L1*L2*m2*cos(x2) + L2\\*\\*2*m2))/(L1**2\\*L2**2*m2*(m1 + m2\\*sin(x2)\\*\\*2))\n"
   ]
  }
 ],
 "metadata": {
  "kernelspec": {
   "display_name": "base",
   "language": "python",
   "name": "python3"
  },
  "language_info": {
   "codemirror_mode": {
    "name": "ipython",
    "version": 3
   },
   "file_extension": ".py",
   "mimetype": "text/x-python",
   "name": "python",
   "nbconvert_exporter": "python",
   "pygments_lexer": "ipython3",
   "version": "3.10.11"
  },
  "orig_nbformat": 4
 },
 "nbformat": 4,
 "nbformat_minor": 2
}
